{
  "cells": [
    {
      "cell_type": "markdown",
      "metadata": {},
      "source": [
        "[![Open in Colab](https://colab.research.google.com/assets/colab-badge.svg)](https://colab.research.google.com/github/langchain-ai/langchain-academy/blob/main/module-4/parallelization-exercise.ipynb) [![Open in LangChain Academy](https://cdn.prod.website-files.com/65b8cd72835ceeacd4449a53/66e9eba12c7b7688aa3dbb5e_LCA-badge-green.svg)](https://academy.langchain.com/courses/take/intro-to-langgraph/lessons/58239934-lesson-1-parallelization)\n",
        "\n",
        "# Parallelization Exercises\n",
        "\n",
        "## Learning Objectives\n",
        "\n",
        "By completing these exercises, you will:\n",
        "\n",
        "1. **Master Fan-out and Fan-in Patterns**: Learn to create graphs where nodes execute in parallel and then converge\n",
        "2. **Understand State Reducers**: Practice using different reducer functions to handle concurrent state updates\n",
        "3. **Control Execution Order**: Implement custom reducers to manage the order of parallel updates\n",
        "4. **Build Real-world Applications**: Create parallel processing systems using LLMs and external APIs\n",
        "5. **Handle Concurrent Errors**: Debug and fix common issues with parallel execution\n",
        "\n",
        "## Prerequisites\n",
        "\n",
        "Before starting these exercises, ensure you understand:\n",
        "- Basic LangGraph concepts (nodes, edges, state)\n",
        "- StateGraph creation and compilation\n",
        "- Basic Python typing and TypedDict\n",
        "\n",
        "Let's begin with the setup and our first exercise!\n"
      ]
    },
    {
      "cell_type": "code",
      "execution_count": null,
      "metadata": {},
      "outputs": [],
      "source": [
        "%%capture --no-stderr\n",
        "%pip install -U langgraph tavily-python wikipedia langchain_openai langchain_community langgraph_sdk"
      ]
    },
    {
      "cell_type": "code",
      "execution_count": null,
      "metadata": {},
      "outputs": [],
      "source": [
        "import os, getpass\n",
        "\n",
        "def _set_env(var: str):\n",
        "    if not os.environ.get(var):\n",
        "        os.environ[var] = getpass.getpass(f\"{var}: \")\n",
        "\n",
        "_set_env(\"OPENAI_API_KEY\")"
      ]
    },
    {
      "cell_type": "markdown",
      "metadata": {},
      "source": [
        "## Exercise 1: Understanding the Parallelization Problem\n",
        "\n",
        "Let's start by reproducing the core issue that parallelization solves. First, you'll create a linear graph, then attempt to make it parallel and encounter the error.\n",
        "\n",
        "**Your Task**: Create a simple linear graph with 4 nodes (a, b, c, d) that each append their name to a state list."
      ]
    },
    {
      "cell_type": "code",
      "execution_count": null,
      "metadata": {},
      "outputs": [],
      "source": [
        "from IPython.display import Image, display\n",
        "from typing import Any\n",
        "from typing_extensions import TypedDict\n",
        "from langgraph.graph import StateGraph, START, END\n",
        "\n",
        "# TODO: Define your State class\n",
        "# Hint: Use a simple list field called 'names'\n",
        "class State(TypedDict):\n",
        "    # YOUR CODE HERE\n",
        "    pass\n",
        "\n",
        "# TODO: Create a node function class that appends a name to the state\n",
        "# Hint: Look at the ReturnNodeValue class from the lesson\n",
        "class AppendName:\n",
        "    def __init__(self, name: str):\n",
        "        # YOUR CODE HERE\n",
        "        pass\n",
        "\n",
        "    def __call__(self, state: State) -> Any:\n",
        "        # YOUR CODE HERE - append the name to the state\n",
        "        print(f\"Adding {self._name} to {state['names']}\")\n",
        "        return {\"names\": [self._name]}\n",
        "\n",
        "# TODO: Create the graph with linear flow: START -> a -> b -> c -> d -> END\n",
        "builder = StateGraph(State)\n",
        "\n",
        "# YOUR CODE HERE - Add nodes and edges\n",
        "\n",
        "graph = builder.compile()\n",
        "display(Image(graph.get_graph().draw_mermaid_png()))"
      ]
    },
    {
      "cell_type": "code",
      "execution_count": null,
      "metadata": {},
      "outputs": [],
      "source": [
        "# Test your linear graph\n",
        "result = graph.invoke({\"names\": []})\n",
        "print(\"Final result:\", result)\n",
        "# Expected: Each node overwrites the previous, so only the last node's name should remain"
      ]
    },
    {
      "cell_type": "markdown",
      "metadata": {},
      "source": [
        "**Question**: What happened to the state? Why do we only see the last node's name?\n",
        "\n",
        "**Your Answer**: \n",
        "<!-- Write your explanation here -->\n"
      ]
    },
    {
      "cell_type": "markdown",
      "metadata": {},
      "source": [
        "## Exercise 2: Encountering the Parallel Execution Error\n",
        "\n",
        "Now let's try to make nodes b and c run in parallel and see what error occurs.\n",
        "\n",
        "**Your Task**: Modify the graph to have a fan-out from 'a' to both 'b' and 'c', then fan-in to 'd'."
      ]
    },
    {
      "cell_type": "code",
      "execution_count": null,
      "metadata": {},
      "outputs": [],
      "source": [
        "# TODO: Create a new graph with parallel execution\n",
        "# Flow should be: START -> a -> [b, c] -> d -> END\n",
        "builder = StateGraph(State)\n",
        "\n",
        "# Add the same nodes\n",
        "builder.add_node(\"a\", AppendName(\"A\"))\n",
        "builder.add_node(\"b\", AppendName(\"B\"))\n",
        "builder.add_node(\"c\", AppendName(\"C\"))\n",
        "builder.add_node(\"d\", AppendName(\"D\"))\n",
        "\n",
        "# TODO: Add edges to create the parallel pattern\n",
        "# YOUR CODE HERE\n",
        "\n",
        "graph = builder.compile()\n",
        "display(Image(graph.get_graph().draw_mermaid_png()))"
      ]
    },
    {
      "cell_type": "code",
      "execution_count": null,
      "metadata": {},
      "outputs": [],
      "source": [
        "# Try to run the parallel graph and observe the error\n",
        "from langgraph.errors import InvalidUpdateError\n",
        "\n",
        "try:\n",
        "    result = graph.invoke({\"names\": []})\n",
        "    print(\"Result:\", result)\n",
        "except InvalidUpdateError as e:\n",
        "    print(f\"Error encountered: {e}\")\n",
        "    print(\"\\nThis error occurs because both 'b' and 'c' are trying to write to the same state key simultaneously.\")"
      ]
    },
    {
      "cell_type": "markdown",
      "metadata": {},
      "source": [
        "**Question**: Why does this error occur? What is LangGraph trying to protect us from?\n",
        "\n",
        "**Your Answer**: \n",
        "<!-- Write your explanation here -->\n"
      ]
    },
    {
      "cell_type": "markdown",
      "metadata": {},
      "source": [
        "## Exercise 3: Fixing Parallel Execution with Reducers\n",
        "\n",
        "Now you'll fix the parallel execution issue by using a reducer function.\n",
        "\n",
        "**Your Task**: Modify the State class to use `operator.add` as a reducer for the names field."
      ]
    },
    {
      "cell_type": "code",
      "execution_count": null,
      "metadata": {},
      "outputs": [],
      "source": [
        "import operator\n",
        "from typing import Annotated\n",
        "\n",
        "# TODO: Create a new State class with a reducer\n",
        "# Hint: Use Annotated[list, operator.add] for the names field\n",
        "class StateWithReducer(TypedDict):\n",
        "    # YOUR CODE HERE\n",
        "    pass\n",
        "\n",
        "# TODO: Update the AppendName class to work with the new state\n",
        "class AppendNameWithReducer:\n",
        "    def __init__(self, name: str):\n",
        "        self._name = name\n",
        "\n",
        "    def __call__(self, state: StateWithReducer) -> Any:\n",
        "        print(f\"Adding {self._name} to {state['names']}\")\n",
        "        # YOUR CODE HERE - return the name in the correct format\n",
        "        return {\"names\": [self._name]}\n",
        "\n",
        "# TODO: Create the parallel graph with the new state\n",
        "builder = StateGraph(StateWithReducer)\n",
        "\n",
        "# YOUR CODE HERE - Add nodes and edges for parallel execution\n",
        "\n",
        "graph = builder.compile()\n",
        "display(Image(graph.get_graph().draw_mermaid_png()))"
      ]
    },
    {
      "cell_type": "code",
      "execution_count": null,
      "metadata": {},
      "outputs": [],
      "source": [
        "# Test the fixed parallel graph\n",
        "result = graph.invoke({\"names\": []})\n",
        "print(\"Final result:\", result)\n",
        "# Expected: All names should be present, showing successful parallel execution"
      ]
    },
    {
      "cell_type": "markdown",
      "metadata": {},
      "source": [
        "**Question**: How does the `operator.add` reducer solve the parallel execution problem?\n",
        "\n",
        "**Your Answer**: \n",
        "<!-- Write your explanation here -->\n"
      ]
    },
    {
      "cell_type": "markdown",
      "metadata": {},
      "source": [
        "## Exercise 4: Complex Parallel Patterns\n",
        "\n",
        "Let's create a more complex parallel pattern where one branch has multiple steps.\n",
        "\n",
        "**Your Task**: Create a graph where:\n",
        "- Node 'a' fans out to 'b' and 'c'\n",
        "- Node 'b' goes to 'b2', then 'b3'\n",
        "- Nodes 'b3' and 'c' both go to 'd'\n",
        "\n",
        "This will test your understanding of how LangGraph waits for all parallel branches to complete."
      ]
    },
    {
      "cell_type": "code",
      "execution_count": null,
      "metadata": {},
      "outputs": [],
      "source": [
        "# TODO: Create a graph with uneven parallel branches\n",
        "builder = StateGraph(StateWithReducer)\n",
        "\n",
        "# TODO: Add all necessary nodes\n",
        "# YOUR CODE HERE\n",
        "\n",
        "# TODO: Add edges to create the pattern described above\n",
        "# YOUR CODE HERE\n",
        "\n",
        "graph = builder.compile()\n",
        "display(Image(graph.get_graph().draw_mermaid_png()))"
      ]
    },
    {
      "cell_type": "code",
      "execution_count": null,
      "metadata": {},
      "outputs": [],
      "source": [
        "# Test the complex parallel graph\n",
        "result = graph.invoke({\"names\": []})\n",
        "print(\"Final result:\", result)\n",
        "print(\"\\nOrder of execution:\")\n",
        "for i, name in enumerate(result['names'], 1):\n",
        "    print(f\"{i}. {name}\")"
      ]
    },
    {
      "cell_type": "markdown",
      "metadata": {},
      "source": [
        "**Question**: What do you notice about the execution order? When does node 'd' execute?\n",
        "\n",
        "**Your Answer**: \n",
        "<!-- Write your explanation here -->\n"
      ]
    },
    {
      "cell_type": "markdown",
      "metadata": {},
      "source": [
        "## Exercise 5: Custom Reducers for Ordering\n",
        "\n",
        "The default order of parallel updates is not guaranteed. Let's create a custom reducer to control the order.\n",
        "\n",
        "**Your Task**: Create a custom reducer that sorts the names alphabetically as they're added to the state."
      ]
    },
    {
      "cell_type": "code",
      "execution_count": null,
      "metadata": {},
      "outputs": [],
      "source": [
        "# TODO: Create a custom reducer function that sorts names\n",
        "def alphabetical_reducer(left, right):\n",
        "    \"\"\" Combines and sorts the values alphabetically \"\"\"\n",
        "    # YOUR CODE HERE\n",
        "    # Hint: Handle both single values and lists\n",
        "    # Convert to lists if needed, combine, and sort\n",
        "    pass\n",
        "\n",
        "# TODO: Create a new State class with your custom reducer\n",
        "class StateWithSorting(TypedDict):\n",
        "    # YOUR CODE HERE\n",
        "    pass\n",
        "\n",
        "# Update the node class for the new state\n",
        "class AppendNameWithSorting:\n",
        "    def __init__(self, name: str):\n",
        "        self._name = name\n",
        "\n",
        "    def __call__(self, state: StateWithSorting) -> Any:\n",
        "        print(f\"Adding {self._name} to {state['names']}\")\n",
        "        return {\"names\": [self._name]}"
      ]
    },
    {
      "cell_type": "code",
      "execution_count": null,
      "metadata": {},
      "outputs": [],
      "source": [
        "# TODO: Test your custom reducer with a simple parallel graph\n",
        "# Create nodes that will be added out of alphabetical order\n",
        "builder = StateGraph(StateWithSorting)\n",
        "\n",
        "# Add nodes with names that will test sorting: Z, A, M, B\n",
        "# YOUR CODE HERE\n",
        "\n",
        "# Create a fan-out pattern so we can see the sorting in action\n",
        "# YOUR CODE HERE\n",
        "\n",
        "graph = builder.compile()\n",
        "display(Image(graph.get_graph().draw_mermaid_png()))"
      ]
    },
    {
      "cell_type": "code",
      "execution_count": null,
      "metadata": {},
      "outputs": [],
      "source": [
        "# Test the sorting reducer\n",
        "result = graph.invoke({\"names\": []})\n",
        "print(\"Final result:\", result)\n",
        "print(\"\\nNames should be in alphabetical order despite execution order\")"
      ]
    },
    {
      "cell_type": "markdown",
      "metadata": {},
      "source": [
        "**Question**: How does your custom reducer ensure consistent ordering regardless of execution timing?\n",
        "\n",
        "**Your Answer**: \n",
        "<!-- Write your explanation here -->\n"
      ]
    },
    {
      "cell_type": "markdown",
      "metadata": {},
      "source": [
        "## Exercise 6: Building a Multi-Source Research Assistant\n",
        "\n",
        "Now let's build a practical application! You'll create a research assistant that gathers information from multiple sources in parallel.\n",
        "\n",
        "**Your Task**: Create a graph that:\n",
        "1. Takes a research question\n",
        "2. Searches Wikipedia and web sources in parallel\n",
        "3. Combines the results and generates a comprehensive answer\n",
        "\n",
        "First, let's set up the required API keys:"
      ]
    },
    {
      "cell_type": "code",
      "execution_count": null,
      "metadata": {},
      "outputs": [],
      "source": [
        "# Set up API keys for external services\n",
        "_set_env(\"TAVILY_API_KEY\")"
      ]
    },
    {
      "cell_type": "code",
      "execution_count": null,
      "metadata": {},
      "outputs": [],
      "source": [
        "from langchain_openai import ChatOpenAI\n",
        "from langchain_core.messages import HumanMessage, SystemMessage\n",
        "from langchain_community.document_loaders import WikipediaLoader\n",
        "from langchain_community.tools import TavilySearchResults\n",
        "\n",
        "# Initialize the LLM\n",
        "llm = ChatOpenAI(model=\"gpt-4o\", temperature=0)\n",
        "\n",
        "# TODO: Define your research state\n",
        "class ResearchState(TypedDict):\n",
        "    # YOUR CODE HERE\n",
        "    # Hint: You'll need fields for question, context, and answer\n",
        "    # Use a reducer for context since multiple sources will add to it\n",
        "    pass"
      ]
    },
    {
      "cell_type": "code",
      "execution_count": null,
      "metadata": {},
      "outputs": [],
      "source": [
        "# TODO: Implement the Wikipedia search function\n",
        "def search_wikipedia(state: ResearchState):\n",
        "    \"\"\" Search Wikipedia for information \"\"\"\n",
        "    print(f\"Searching Wikipedia for: {state['question']}\")\n",
        "    \n",
        "    # YOUR CODE HERE\n",
        "    # 1. Use WikipediaLoader to search for the question\n",
        "    # 2. Load up to 2 documents\n",
        "    # 3. Format the results as a string with document metadata\n",
        "    # 4. Return in the correct format for the state\n",
        "    \n",
        "    pass\n",
        "\n",
        "# TODO: Implement the web search function  \n",
        "def search_web(state: ResearchState):\n",
        "    \"\"\" Search the web for information \"\"\"\n",
        "    print(f\"Searching web for: {state['question']}\")\n",
        "    \n",
        "    # YOUR CODE HERE\n",
        "    # 1. Use TavilySearchResults to search for the question\n",
        "    # 2. Get up to 3 results\n",
        "    # 3. Format the results with URLs and content\n",
        "    # 4. Return in the correct format for the state\n",
        "    \n",
        "    pass\n",
        "\n",
        "# TODO: Implement the answer generation function\n",
        "def generate_answer(state: ResearchState):\n",
        "    \"\"\" Generate a comprehensive answer using all context \"\"\"\n",
        "    print(\"Generating comprehensive answer...\")\n",
        "    \n",
        "    # YOUR CODE HERE\n",
        "    # 1. Get the question and all context from state\n",
        "    # 2. Create a prompt that asks the LLM to synthesize information\n",
        "    # 3. Call the LLM with appropriate system and human messages\n",
        "    # 4. Return the answer in the correct format\n",
        "    \n",
        "    pass"
      ]
    },
    {
      "cell_type": "code",
      "execution_count": null,
      "metadata": {},
      "outputs": [],
      "source": [
        "# TODO: Build the research assistant graph\n",
        "builder = StateGraph(ResearchState)\n",
        "\n",
        "# YOUR CODE HERE\n",
        "# 1. Add nodes for Wikipedia search, web search, and answer generation\n",
        "# 2. Create edges so both searches run in parallel from START\n",
        "# 3. Both searches should feed into answer generation\n",
        "# 4. Answer generation should go to END\n",
        "\n",
        "research_graph = builder.compile()\n",
        "display(Image(research_graph.get_graph().draw_mermaid_png()))"
      ]
    },
    {
      "cell_type": "code",
      "execution_count": null,
      "metadata": {},
      "outputs": [],
      "source": [
        "# Test your research assistant\n",
        "research_question = \"What are the latest developments in quantum computing in 2024?\"\n",
        "\n",
        "result = research_graph.invoke({\n",
        "    \"question\": research_question,\n",
        "    \"context\": [],\n",
        "    \"answer\": \"\"\n",
        "})\n",
        "\n",
        "print(\"Research Question:\", research_question)\n",
        "print(\"\\nAnswer:\")\n",
        "print(result['answer'].content if hasattr(result['answer'], 'content') else result['answer'])"
      ]
    },
    {
      "cell_type": "markdown",
      "metadata": {},
      "source": [
        "**Question**: What are the advantages of running the searches in parallel rather than sequentially?\n",
        "\n",
        "**Your Answer**: \n",
        "<!-- Write your explanation here -->\n"
      ]
    },
    {
      "cell_type": "markdown",
      "metadata": {},
      "source": [
        "## Exercise 7: Advanced Parallel Processing Challenge\n",
        "\n",
        "For this advanced challenge, you'll create a more sophisticated system that processes data through multiple parallel analysis pipelines.\n",
        "\n",
        "**Your Task**: Create a data analysis graph that:\n",
        "1. Takes a dataset description\n",
        "2. Performs three types of analysis in parallel:\n",
        "   - Statistical analysis\n",
        "   - Trend analysis  \n",
        "   - Predictive analysis\n",
        "3. Synthesizes all analyses into a comprehensive report\n",
        "4. Uses custom reducers to organize the results properly"
      ]
    },
    {
      "cell_type": "code",
      "execution_count": null,
      "metadata": {},
      "outputs": [],
      "source": [
        "# TODO: Create a sophisticated analysis state with multiple fields\n",
        "class AnalysisState(TypedDict):\n",
        "    # YOUR CODE HERE\n",
        "    # Consider what fields you need for:\n",
        "    # - Input data description\n",
        "    # - Different types of analysis results\n",
        "    # - Final report\n",
        "    # Think about which fields need reducers\n",
        "    pass\n",
        "\n",
        "# TODO: Implement analysis functions\n",
        "def statistical_analysis(state: AnalysisState):\n",
        "    \"\"\" Perform statistical analysis \"\"\"\n",
        "    print(\"Performing statistical analysis...\")\n",
        "    \n",
        "    # YOUR CODE HERE\n",
        "    # Create a prompt for statistical analysis and call the LLM\n",
        "    # Return results in appropriate format\n",
        "    pass\n",
        "\n",
        "def trend_analysis(state: AnalysisState):\n",
        "    \"\"\" Perform trend analysis \"\"\"\n",
        "    print(\"Performing trend analysis...\")\n",
        "    \n",
        "    # YOUR CODE HERE\n",
        "    pass\n",
        "\n",
        "def predictive_analysis(state: AnalysisState):\n",
        "    \"\"\" Perform predictive analysis \"\"\"\n",
        "    print(\"Performing predictive analysis...\")\n",
        "    \n",
        "    # YOUR CODE HERE\n",
        "    pass\n",
        "\n",
        "def synthesize_report(state: AnalysisState):\n",
        "    \"\"\" Synthesize all analyses into a comprehensive report \"\"\"\n",
        "    print(\"Synthesizing comprehensive report...\")\n",
        "    \n",
        "    # YOUR CODE HERE\n",
        "    # Combine all analysis results into a final report\n",
        "    pass"
      ]
    },
    {
      "cell_type": "code",
      "execution_count": null,
      "metadata": {},
      "outputs": [],
      "source": [
        "# TODO: Build the analysis graph\n",
        "builder = StateGraph(AnalysisState)\n",
        "\n",
        "# YOUR CODE HERE\n",
        "# Create a graph where all three analyses run in parallel\n",
        "# then feed into the synthesis step\n",
        "\n",
        "analysis_graph = builder.compile()\n",
        "display(Image(analysis_graph.get_graph().draw_mermaid_png()))"
      ]
    },
    {
      "cell_type": "code",
      "execution_count": null,
      "metadata": {},
      "outputs": [],
      "source": [
        "# Test your analysis system\n",
        "data_description = \"Monthly sales data for an e-commerce company over the past 3 years, including revenue, number of orders, and customer acquisition costs\"\n",
        "\n",
        "result = analysis_graph.invoke({\n",
        "    \"data_description\": data_description,\n",
        "    # Add other initial state fields as needed\n",
        "})\n",
        "\n",
        "print(\"Data Description:\", data_description)\n",
        "print(\"\\nComprehensive Analysis Report:\")\n",
        "print(result['report'] if 'report' in result else \"Report not found - check your implementation\")"
      ]
    },
    {
      "cell_type": "markdown",
      "metadata": {},
      "source": [
        "## Exercise 8: Debugging Parallel Execution\n",
        "\n",
        "Let's practice debugging common issues with parallel execution.\n",
        "\n",
        "**Your Task**: The following code has several issues that prevent proper parallel execution. Find and fix them."
      ]
    },
    {
      "cell_type": "code",
      "execution_count": null,
      "metadata": {},
      "outputs": [],
      "source": [
        "# BUGGY CODE - Find and fix the issues\n",
        "class BuggyState(TypedDict):\n",
        "    results: list  # Issue 1: Missing reducer annotation\n",
        "    count: int\n",
        "\n",
        "def process_a(state: BuggyState):\n",
        "    return {\"results\": \"Result A\", \"count\": 1}  # Issue 2: Wrong data type\n",
        "\n",
        "def process_b(state: BuggyState):\n",
        "    return {\"results\": [\"Result B\"], \"count\": 1}  # Issue 3: Concurrent count updates\n",
        "\n",
        "def process_c(state: BuggyState):\n",
        "    return {\"results\": [\"Result C\"], \"count\": 1}  # Issue 3: Concurrent count updates\n",
        "\n",
        "# TODO: Fix the state definition and functions above\n",
        "# Then create a working graph\n",
        "\n",
        "# YOUR FIXED CODE HERE"
      ]
    },
    {
      "cell_type": "markdown",
      "metadata": {},
      "source": [
        "**Question**: What were the main issues in the buggy code and how did you fix them?\n",
        "\n",
        "**Your Answer**: \n",
        "<!-- List the issues and your solutions -->\n"
      ]
    },
    {
      "cell_type": "markdown",
      "metadata": {},
      "source": [
        "## Exercise 9: Performance Comparison\n",
        "\n",
        "Let's compare the performance benefits of parallel execution.\n",
        "\n",
        "**Your Task**: Create two versions of a slow processing graph - one sequential and one parallel - and compare their execution times."
      ]
    },
    {
      "cell_type": "code",
      "execution_count": null,
      "metadata": {},
      "outputs": [],
      "source": [
        "import time\n",
        "import asyncio\n",
        "\n",
        "class TimingState(TypedDict):\n",
        "    results: Annotated[list, operator.add]\n",
        "    start_time: float\n",
        "\n",
        "def slow_process(name: str, delay: float):\n",
        "    \"\"\" Create a slow processing function \"\"\"\n",
        "    def process(state: TimingState):\n",
        "        print(f\"Starting {name} (will take {delay}s)\")\n",
        "        time.sleep(delay)  # Simulate slow processing\n",
        "        print(f\"Finished {name}\")\n",
        "        return {\"results\": [f\"{name} completed in {delay}s\"]}\n",
        "    return process\n",
        "\n",
        "# TODO: Create a sequential graph\n",
        "sequential_builder = StateGraph(TimingState)\n",
        "# YOUR CODE HERE - make it sequential: a -> b -> c\n",
        "\n",
        "sequential_graph = sequential_builder.compile()\n",
        "\n",
        "# TODO: Create a parallel graph  \n",
        "parallel_builder = StateGraph(TimingState)\n",
        "# YOUR CODE HERE - make b and c run in parallel after a\n",
        "\n",
        "parallel_graph = parallel_builder.compile()"
      ]
    },
    {
      "cell_type": "code",
      "execution_count": null,
      "metadata": {},
      "outputs": [],
      "source": [
        "# Test sequential execution\n",
        "print(\"Testing Sequential Execution:\")\n",
        "start_time = time.time()\n",
        "sequential_result = sequential_graph.invoke({\"results\": [], \"start_time\": start_time})\n",
        "sequential_duration = time.time() - start_time\n",
        "print(f\"Sequential execution took: {sequential_duration:.2f} seconds\")\n",
        "print(\"Results:\", sequential_result['results'])\n",
        "print()"
      ]
    },
    {
      "cell_type": "code",
      "execution_count": null,
      "metadata": {},
      "outputs": [],
      "source": [
        "# Test parallel execution\n",
        "print(\"Testing Parallel Execution:\")\n",
        "start_time = time.time()\n",
        "parallel_result = parallel_graph.invoke({\"results\": [], \"start_time\": start_time})\n",
        "parallel_duration = time.time() - start_time\n",
        "print(f\"Parallel execution took: {parallel_duration:.2f} seconds\")\n",
        "print(\"Results:\", parallel_result['results'])\n",
        "print()\n",
        "\n",
        "print(f\"Performance improvement: {sequential_duration/parallel_duration:.2f}x faster\")"
      ]
    },
    {
      "cell_type": "markdown",
      "metadata": {},
      "source": [
        "**Question**: What performance improvement did you observe? When would parallel execution be most beneficial?\n",
        "\n",
        "**Your Answer**: \n",
        "<!-- Discuss the performance results and when to use parallelization -->\n"
      ]
    },
    {
      "cell_type": "markdown",
      "metadata": {},
      "source": [
        "## Exercise 10: Real-World Application Design\n",
        "\n",
        "For this final exercise, design your own real-world application that benefits from parallelization.\n",
        "\n",
        "**Your Task**: Choose one of these scenarios (or create your own) and implement a solution:\n",
        "\n",
        "1. **Content Moderation System**: Analyze content through multiple safety checks in parallel\n",
        "2. **Financial Analysis Pipeline**: Process market data through different analytical models\n",
        "3. **Multi-language Translation Service**: Translate text into multiple languages simultaneously\n",
        "4. **Social Media Monitoring**: Track mentions across different platforms in parallel\n",
        "\n",
        "Your implementation should demonstrate:\n",
        "- Proper use of fan-out and fan-in patterns\n",
        "- Appropriate state reducers\n",
        "- Error handling for parallel operations\n",
        "- Performance benefits of parallelization"
      ]
    },
    {
      "cell_type": "code",
      "execution_count": null,
      "metadata": {},
      "outputs": [],
      "source": [
        "# TODO: Choose your scenario and implement it here\n",
        "# Include:\n",
        "# 1. Clear state definition with appropriate reducers\n",
        "# 2. Multiple processing functions that can run in parallel\n",
        "# 3. A synthesis/aggregation step\n",
        "# 4. Proper error handling\n",
        "\n",
        "# YOUR IMPLEMENTATION HERE\n",
        "\n",
        "# Example structure for guidance:\n",
        "# class YourState(TypedDict):\n",
        "#     input_data: str\n",
        "#     parallel_results: Annotated[list, your_reducer]\n",
        "#     final_output: str\n",
        "\n",
        "# def parallel_function_1(state):\n",
        "#     # Your parallel processing logic\n",
        "#     pass\n",
        "\n",
        "# def parallel_function_2(state):\n",
        "#     # Your parallel processing logic  \n",
        "#     pass\n",
        "\n",
        "# def synthesis_function(state):\n",
        "#     # Combine parallel results\n",
        "#     pass"
      ]
    },
    {
      "cell_type": "code",
      "execution_count": null,
      "metadata": {},
      "outputs": [],
      "source": [
        "# TODO: Build and test your graph\n",
        "# YOUR CODE HERE"
      ]
    },
    {
      "cell_type": "code",
      "execution_count": null,
      "metadata": {},
      "outputs": [],
      "source": [
        "# TODO: Test your implementation with sample data\n",
        "# YOUR CODE HERE"
      ]
    },
    {
      "cell_type": "markdown",
      "metadata": {},
      "source": [
        "**Reflection Questions**:\n",
        "\n",
        "1. **What scenario did you choose and why?**\n",
        "   <!-- Your answer here -->\n",
        "\n",
        "2. **What specific benefits does parallelization provide in your use case?**\n",
        "   <!-- Your answer here -->\n",
        "\n",
        "3. **What challenges did you encounter and how did you solve them?**\n",
        "   <!-- Your answer here -->\n",
        "\n",
        "4. **How would you extend this solution for production use?**\n",
        "   <!-- Your answer here -->\n"
      ]
    },
    {
      "cell_type": "markdown",
      "metadata": {},
      "source": [
        "## Summary and Key Takeaways\n",
        "\n",
        "Congratulations! You've completed the parallelization exercises. Here are the key concepts you've mastered:\n",
        "\n",
        "### Core Concepts:\n",
        "1. **Fan-out and Fan-in Patterns**: Creating graphs where execution branches and converges\n",
        "2. **State Reducers**: Using functions like `operator.add` to handle concurrent state updates\n",
        "3. **Custom Reducers**: Implementing specialized logic for combining parallel results\n",
        "4. **Execution Synchronization**: Understanding how LangGraph waits for all parallel branches\n",
        "\n",
        "### Best Practices:\n",
        "- Always use reducers when multiple nodes write to the same state field in parallel\n",
        "- Design your state schema carefully to avoid conflicts\n",
        "- Consider the order of operations when designing parallel workflows\n",
        "- Use parallelization for I/O-bound operations and independent computations\n",
        "\n",
        "### Common Pitfalls to Avoid:\n",
        "- Forgetting to use reducers for shared state fields\n",
        "- Assuming a specific execution order within parallel steps\n",
        "- Not handling errors properly in parallel branches\n",
        "- Over-parallelizing CPU-bound operations\n",
        "\n",
        "### When to Use Parallelization:\n",
        "- External API calls that can be made simultaneously\n",
        "- Independent data processing tasks\n",
        "- Multiple analysis or validation steps\n",
        "- Gathering information from multiple sources\n",
        "\n",
        "These parallelization patterns form the foundation for building more complex multi-agent systems, which you'll explore in the next modules!\n"
      ]
    }
  ],
  "metadata": {
    "kernelspec": {
      "display_name": "Python 3",
      "language": "python",
      "name": "python3"
    },
    "language_info": {
      "codemirror_mode": {
        "name": "ipython",
        "version": 3
      },
      "file_extension": ".py",
      "mimetype": "text/x-python",
      "name": "python",
      "nbconvert_exporter": "python",
      "pygments_lexer": "ipython3",
      "version": "3.11.0"
    }
  },
  "nbformat": 4,
  "nbformat_minor": 4
}