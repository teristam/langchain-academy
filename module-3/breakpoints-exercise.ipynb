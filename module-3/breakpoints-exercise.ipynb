{
 "cells": [
  {
   "cell_type": "markdown",
   "metadata": {},
   "source": [
    "# Breakpoints - Exercise Notebook\n",
    "\n",
    "## Objectives\n",
    "Test your understanding of LangGraph breakpoints by completing the exercises below.\n",
    "\n",
    "## What You Should Know\n",
    "- How to add breakpoints using `interrupt_before` when compiling graphs\n",
    "- How breakpoints enable human-in-the-loop workflows\n",
    "- How to continue execution after a breakpoint using `graph.stream(None, thread)`\n",
    "- The three main motivations for human-in-the-loop: Approval, Debugging, and Editing"
   ]
  },
  {
   "cell_type": "markdown",
   "metadata": {},
   "source": [
    "## Setup"
   ]
  },
  {
   "cell_type": "code",
   "execution_count": null,
   "metadata": {},
   "outputs": [],
   "source": [
    "%%capture --no-stderr\n",
    "%pip install --quiet -U langgraph langchain_openai langgraph_sdk langgraph-prebuilt"
   ]
  },
  {
   "cell_type": "code",
   "execution_count": null,
   "metadata": {},
   "outputs": [],
   "source": [
    "import os, getpass\n",
    "\n",
    "def _set_env(var: str):\n",
    "    if not os.environ.get(var):\n",
    "        os.environ[var] = getpass.getpass(f\"{var}: \")\n",
    "\n",
    "_set_env(\"OPENAI_API_KEY\")"
   ]
  },
  {
   "cell_type": "markdown",
   "metadata": {},
   "source": [
    "## Exercise 1: Basic Breakpoint Setup\n",
    "\n",
    "Create a simple graph with an assistant node and a tools node. Add a breakpoint **before** the tools node to allow human approval of tool calls.\n",
    "\n",
    "**Your Task:**\n",
    "1. Define tools for basic arithmetic (add, subtract, multiply)\n",
    "2. Create a graph with assistant and tools nodes\n",
    "3. Add a breakpoint before the tools node\n",
    "4. Test it with a query that requires tool usage"
   ]
  },
  {
   "cell_type": "code",
   "execution_count": null,
   "metadata": {},
   "outputs": [],
   "source": [
    "from langchain_openai import ChatOpenAI\n",
    "from langgraph.checkpoint.memory import MemorySaver\n",
    "from langgraph.graph import MessagesState, START, StateGraph\n",
    "from langgraph.prebuilt import tools_condition, ToolNode\n",
    "from langchain_core.messages import SystemMessage\n",
    "\n",
    "# Define your tools here\n",
    "def add(a: int, b: int) -> int:\n",
    "    \"\"\"Add two numbers.\"\"\"\n",
    "    # TODO: Implement this function\n",
    "    pass\n",
    "\n",
    "def subtract(a: int, b: int) -> int:\n",
    "    \"\"\"Subtract b from a.\"\"\"\n",
    "    # TODO: Implement this function\n",
    "    pass\n",
    "\n",
    "def multiply(a: int, b: int) -> int:\n",
    "    \"\"\"Multiply two numbers.\"\"\"\n",
    "    # TODO: Implement this function\n",
    "    pass\n",
    "\n",
    "# TODO: Create your tools list and LLM with tools\n",
    "tools = []\n",
    "llm = None\n",
    "llm_with_tools = None\n",
    "\n",
    "# TODO: Define your assistant node\n",
    "def assistant(state: MessagesState):\n",
    "    # TODO: Implement the assistant function\n",
    "    pass\n",
    "\n",
    "# TODO: Build your graph with breakpoint\n",
    "builder = StateGraph(MessagesState)\n",
    "# Add nodes and edges here\n",
    "\n",
    "# TODO: Compile with breakpoint and memory\n",
    "memory = MemorySaver()\n",
    "graph = None  # Replace with your compiled graph\n",
    "\n",
    "print(\"Graph created successfully!\")"
   ]
  },
  {
   "cell_type": "markdown",
   "metadata": {},
   "source": [
    "## Exercise 2: Testing the Breakpoint\n",
    "\n",
    "Test your graph with a query that will trigger a tool call and demonstrate the breakpoint functionality."
   ]
  },
  {
   "cell_type": "code",
   "execution_count": null,
   "metadata": {},
   "outputs": [],
   "source": [
    "from langchain_core.messages import HumanMessage\n",
    "\n",
    "# TODO: Test your graph with a breakpoint\n",
    "initial_input = {\"messages\": HumanMessage(content=\"What is 15 + 25?\")}\n",
    "thread = {\"configurable\": {\"thread_id\": \"exercise_1\"}}\n",
    "\n",
    "# TODO: Run until the first interruption and check the state\n",
    "print(\"Running until breakpoint...\")\n",
    "# Add your code here\n",
    "\n",
    "# TODO: Check what the next node to execute is\n",
    "print(\"Next node to execute:\")\n",
    "# Add your code here"
   ]
  },
  {
   "cell_type": "markdown",
   "metadata": {},
   "source": [
    "## Exercise 3: Continue After Approval\n",
    "\n",
    "Simulate user approval and continue the graph execution."
   ]
  },
  {
   "cell_type": "code",
   "execution_count": null,
   "metadata": {},
   "outputs": [],
   "source": [
    "# TODO: Continue execution after \"approval\"\n",
    "print(\"Continuing after approval...\")\n",
    "# Add your code to continue the graph execution"
   ]
  },
  {
   "cell_type": "markdown",
   "metadata": {},
   "source": [
    "## Exercise 4: Multiple Breakpoints\n",
    "\n",
    "Create a graph with breakpoints at multiple nodes. Add a breakpoint before the assistant node as well."
   ]
  },
  {
   "cell_type": "code",
   "execution_count": null,
   "metadata": {},
   "outputs": [],
   "source": [
    "# TODO: Create a new graph with breakpoints before both 'assistant' and 'tools' nodes\n",
    "builder_multi = StateGraph(MessagesState)\n",
    "# Add your nodes and edges\n",
    "\n",
    "# TODO: Compile with multiple breakpoints\n",
    "graph_multi = None  # Replace with your compiled graph\n",
    "\n",
    "# Test it\n",
    "test_input = {\"messages\": HumanMessage(content=\"Calculate 7 * 8\")}\n",
    "test_thread = {\"configurable\": {\"thread_id\": \"multi_test\"}}\n",
    "\n",
    "# TODO: Test the multiple breakpoints\n",
    "print(\"Testing multiple breakpoints...\")"
   ]
  },
  {
   "cell_type": "markdown",
   "metadata": {},
   "source": [
    "## Exercise 5: Conditional Tool Approval\n",
    "\n",
    "Create a more sophisticated approval system that automatically approves certain operations but requires human approval for others."
   ]
  },
  {
   "cell_type": "code",
   "execution_count": null,
   "metadata": {},
   "outputs": [],
   "source": [
    "# TODO: Create a function that determines whether to automatically approve tool calls\n",
    "def should_auto_approve(state: MessagesState) -> bool:\n",
    "    \"\"\"\n",
    "    Return True if the tool call should be automatically approved.\n",
    "    For this exercise, auto-approve addition but require human approval for multiplication.\n",
    "    \"\"\"\n",
    "    # TODO: Implement logic to check the last message for tool calls\n",
    "    # Look at the tool name and decide whether to auto-approve\n",
    "    pass\n",
    "\n",
    "# TODO: Test with different operations\n",
    "# Try both addition (should auto-approve) and multiplication (should require approval)\n",
    "test_cases = [\n",
    "    \"What is 10 + 5?\",  # Should auto-approve\n",
    "    \"What is 10 * 5?\"   # Should require approval\n",
    "]\n",
    "\n",
    "for i, query in enumerate(test_cases):\n",
    "    print(f\"\\nTest case {i+1}: {query}\")\n",
    "    # TODO: Implement your conditional approval logic here"
   ]
  },
  {
   "cell_type": "markdown",
   "metadata": {},
   "source": [
    "## Exercise 6: Breakpoint State Inspection\n",
    "\n",
    "Practice inspecting and understanding the state when a breakpoint occurs."
   ]
  },
  {
   "cell_type": "code",
   "execution_count": null,
   "metadata": {},
   "outputs": [],
   "source": [
    "# TODO: Create a function to analyze the state at a breakpoint\n",
    "def analyze_breakpoint_state(graph, thread_config):\n",
    "    \"\"\"\n",
    "    Analyze and display information about the current state when at a breakpoint.\n",
    "    \"\"\"\n",
    "    state = graph.get_state(thread_config)\n",
    "    \n",
    "    print(\"=== Breakpoint State Analysis ===\")\n",
    "    print(f\"Next nodes to execute: {state.next}\")\n",
    "    print(f\"Number of messages: {len(state.values.get('messages', []))}\")\n",
    "    \n",
    "    # TODO: Add more detailed analysis\n",
    "    # - Show the last message\n",
    "    # - If it's a tool call, show tool name and arguments\n",
    "    # - Show any other relevant state information\n",
    "    \n",
    "    return state\n",
    "\n",
    "# Test your analysis function\n",
    "test_input = {\"messages\": HumanMessage(content=\"Divide 20 by 4\")}\n",
    "test_thread = {\"configurable\": {\"thread_id\": \"analysis_test\"}}\n",
    "\n",
    "# TODO: Run until breakpoint and analyze the state"
   ]
  },
  {
   "cell_type": "markdown",
   "metadata": {},
   "source": [
    "## Reflection Questions\n",
    "\n",
    "Answer these questions to test your understanding:\n",
    "\n",
    "1. **What are the three main motivations for human-in-the-loop workflows?**\n",
    "   - Your answer: \n",
    "\n",
    "2. **When you compile a graph with `interrupt_before=[\"tools\"]`, what happens when the graph reaches the tools node?**\n",
    "   - Your answer: \n",
    "\n",
    "3. **How do you continue execution after a breakpoint?**\n",
    "   - Your answer: \n",
    "\n",
    "4. **What information can you get from `graph.get_state(thread)` when at a breakpoint?**\n",
    "   - Your answer: \n",
    "\n",
    "5. **Can you have breakpoints at multiple nodes in the same graph? How would you set this up?**\n",
    "   - Your answer: "
   ]
  },
  {
   "cell_type": "markdown",
   "metadata": {},
   "source": [
    "## Challenge: Custom Approval Logic\n",
    "\n",
    "**Advanced Exercise:** Create a graph where the approval logic is more sophisticated:\n",
    "- Automatically approve simple arithmetic operations (single numbers)\n",
    "- Require approval for operations with large numbers (> 100)\n",
    "- Require approval for operations that might result in division by zero\n",
    "- Log all decisions for audit purposes"
   ]
  },
  {
   "cell_type": "code",
   "execution_count": null,
   "metadata": {},
   "outputs": [],
   "source": [
    "# TODO: Implement your advanced approval logic here\n",
    "class SmartApprovalSystem:\n",
    "    def __init__(self):\n",
    "        self.decisions_log = []\n",
    "    \n",
    "    def needs_approval(self, state: MessagesState) -> tuple[bool, str]:\n",
    "        \"\"\"\n",
    "        Return (needs_approval, reason) tuple\n",
    "        \"\"\"\n",
    "        # TODO: Implement sophisticated approval logic\n",
    "        pass\n",
    "    \n",
    "    def log_decision(self, decision: str, reason: str, state_info: dict):\n",
    "        \"\"\"\n",
    "        Log the approval decision\n",
    "        \"\"\"\n",
    "        # TODO: Implement logging\n",
    "        pass\n",
    "\n",
    "# TODO: Test your advanced system with various scenarios"
   ]
  }
 ],
 "metadata": {
  "kernelspec": {
   "display_name": "Python 3",
   "language": "python",
   "name": "python3"
  },
  "language_info": {
   "codemirror_mode": {
    "name": "ipython",
    "version": 3
   },
   "file_extension": ".py",
   "name": "python",
   "nbconvert_exporter": "python",
   "pygments_lexer": "ipython3",
   "version": "3.11.0"
  }
 },
 "nbformat": 4,
 "nbformat_minor": 4
}