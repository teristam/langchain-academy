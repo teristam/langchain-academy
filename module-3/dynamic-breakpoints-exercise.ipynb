{
 "cells": [
  {
   "cell_type": "markdown",
   "metadata": {},
   "source": [
    "# Dynamic Breakpoints - Exercise Notebook\n",
    "\n",
    "## Objectives\n",
    "Test your understanding of LangGraph dynamic breakpoints by completing the exercises below.\n",
    "\n",
    "## What You Should Know\n",
    "- How to use `NodeInterrupt` to create dynamic breakpoints from within nodes\n",
    "- The difference between static breakpoints (set at compile time) and dynamic breakpoints (set at runtime)\n",
    "- How to pass information to the user via `NodeInterrupt` messages\n",
    "- How to update state to resolve dynamic breakpoints"
   ]
  },
  {
   "cell_type": "markdown",
   "metadata": {},
   "source": [
    "## Setup"
   ]
  },
  {
   "cell_type": "code",
   "execution_count": null,
   "metadata": {},
   "outputs": [],
   "source": [
    "%%capture --no-stderr\n",
    "%pip install --quiet -U langgraph langchain_openai langgraph_sdk"
   ]
  },
  {
   "cell_type": "code",
   "execution_count": null,
   "metadata": {},
   "outputs": [],
   "source": [
    "from IPython.display import Image, display\n",
    "from typing_extensions import TypedDict\n",
    "from langgraph.checkpoint.memory import MemorySaver\n",
    "from langgraph.errors import NodeInterrupt\n",
    "from langgraph.graph import START, END, StateGraph"
   ]
  },
  {
   "cell_type": "markdown",
   "metadata": {},
   "source": [
    "## Exercise 1: Basic Dynamic Breakpoint\n",
    "\n",
    "Create a simple graph that dynamically interrupts based on input length, similar to the example in the lesson.\n",
    "\n",
    "**Your Task:**\n",
    "1. Define a state with an input string\n",
    "2. Create three nodes: step_1, step_2, step_3\n",
    "3. Make step_2 interrupt if input length > 10 characters\n",
    "4. Test with both short and long inputs"
   ]
  },
  {
   "cell_type": "code",
   "execution_count": null,
   "metadata": {},
   "outputs": [],
   "source": [
    "# TODO: Define your state class\n",
    "class State(TypedDict):\n",
    "    # TODO: Add your state fields here\n",
    "    pass\n",
    "\n",
    "# TODO: Implement your step functions\n",
    "def step_1(state: State) -> State:\n",
    "    # TODO: Implement step_1\n",
    "    pass\n",
    "\n",
    "def step_2(state: State) -> State:\n",
    "    # TODO: Implement step_2 with dynamic interrupt logic\n",
    "    # Interrupt if input length > 10 characters\n",
    "    pass\n",
    "\n",
    "def step_3(state: State) -> State:\n",
    "    # TODO: Implement step_3\n",
    "    pass\n",
    "\n",
    "# TODO: Build your graph\n",
    "builder = StateGraph(State)\n",
    "# Add nodes and edges here\n",
    "\n",
    "# Compile with memory\n",
    "memory = MemorySaver()\n",
    "graph = None  # Replace with your compiled graph\n",
    "\n",
    "print(\"Graph created successfully!\")"
   ]
  },
  {
   "cell_type": "markdown",
   "metadata": {},
   "source": [
    "## Exercise 2: Test Dynamic Interruption\n",
    "\n",
    "Test your graph with inputs of different lengths to see the dynamic breakpoint in action."
   ]
  },
  {
   "cell_type": "code",
   "execution_count": null,
   "metadata": {},
   "outputs": [],
   "source": [
    "# Test with short input (should complete without interruption)\n",
    "print(\"=== Testing with short input ===\")\n",
    "short_input = {\"input\": \"hello\"}\n",
    "thread_short = {\"configurable\": {\"thread_id\": \"short\"}}\n",
    "\n",
    "# TODO: Run the graph with short input\n",
    "# It should complete all steps without interruption\n",
    "\n",
    "print(\"\\n=== Testing with long input ===\")\n",
    "long_input = {\"input\": \"this is a very long input string\"}\n",
    "thread_long = {\"configurable\": {\"thread_id\": \"long\"}}\n",
    "\n",
    "# TODO: Run the graph with long input\n",
    "# It should interrupt at step_2"
   ]
  },
  {
   "cell_type": "markdown",
   "metadata": {},
   "source": [
    "## Exercise 3: Inspect Interrupt Information\n",
    "\n",
    "When a dynamic breakpoint occurs, inspect the interrupt information stored in the state."
   ]
  },
  {
   "cell_type": "code",
   "execution_count": null,
   "metadata": {},
   "outputs": [],
   "source": [
    "# TODO: Get the state after interruption and examine the interrupt information\n",
    "# Look at state.tasks to see the interrupt details\n",
    "\n",
    "print(\"Inspecting interrupt information...\")\n",
    "# Add your code here to inspect the interrupt"
   ]
  },
  {
   "cell_type": "markdown",
   "metadata": {},
   "source": [
    "## Exercise 4: Resolve Dynamic Breakpoint\n",
    "\n",
    "Update the state to resolve the dynamic breakpoint and continue execution."
   ]
  },
  {
   "cell_type": "code",
   "execution_count": null,
   "metadata": {},
   "outputs": [],
   "source": [
    "# TODO: Update the state to resolve the interrupt\n",
    "# Change the input to something shorter so step_2 won't interrupt again\n",
    "\n",
    "print(\"Updating state to resolve interrupt...\")\n",
    "# Add your code to update the state\n",
    "\n",
    "print(\"\\nContinuing execution...\")\n",
    "# Add your code to continue execution"
   ]
  },
  {
   "cell_type": "markdown",
   "metadata": {},
   "source": [
    "## Exercise 5: Multiple Conditional Interrupts\n",
    "\n",
    "Create a more complex graph with multiple nodes that can dynamically interrupt based on different conditions.\n",
    "\n",
    "**Your Task:**\n",
    "Create a data processing pipeline that interrupts when:\n",
    "- Input contains profanity (step 1)\n",
    "- Input is too long (step 2) \n",
    "- Input contains numbers that are too large (step 3)"
   ]
  },
  {
   "cell_type": "code",
   "execution_count": null,
   "metadata": {},
   "outputs": [],
   "source": [
    "import re\n",
    "\n",
    "class ProcessingState(TypedDict):\n",
    "    input: str\n",
    "    processed: bool\n",
    "    errors: list\n",
    "\n",
    "def profanity_check(state: ProcessingState) -> ProcessingState:\n",
    "    \"\"\"\n",
    "    Check for profanity and interrupt if found.\n",
    "    For simplicity, just check for the word 'bad'\n",
    "    \"\"\"\n",
    "    # TODO: Implement profanity check with NodeInterrupt\n",
    "    pass\n",
    "\n",
    "def length_check(state: ProcessingState) -> ProcessingState:\n",
    "    \"\"\"\n",
    "    Check input length and interrupt if > 50 characters\n",
    "    \"\"\"\n",
    "    # TODO: Implement length check with NodeInterrupt\n",
    "    pass\n",
    "\n",
    "def number_check(state: ProcessingState) -> ProcessingState:\n",
    "    \"\"\"\n",
    "    Check for large numbers (> 1000) and interrupt if found\n",
    "    \"\"\"\n",
    "    # TODO: Implement number check with NodeInterrupt\n",
    "    # Use regex to find numbers in the text\n",
    "    pass\n",
    "\n",
    "def final_processing(state: ProcessingState) -> ProcessingState:\n",
    "    \"\"\"\n",
    "    Final processing step\n",
    "    \"\"\"\n",
    "    # TODO: Implement final processing\n",
    "    pass\n",
    "\n",
    "# TODO: Build the processing graph\n",
    "processing_builder = StateGraph(ProcessingState)\n",
    "# Add your nodes and edges\n",
    "\n",
    "processing_graph = None  # Replace with compiled graph\n",
    "\n",
    "# Test cases\n",
    "test_cases = [\n",
    "    \"This is a normal input\",  # Should pass all checks\n",
    "    \"This input contains a bad word\",  # Should fail profanity check\n",
    "    \"This is a very long input that exceeds fifty characters and should trigger the length check\",  # Should fail length check\n",
    "    \"The number 9999 is very large\",  # Should fail number check\n",
    "]\n",
    "\n",
    "# TODO: Test each case and handle interrupts appropriately"
   ]
  },
  {
   "cell_type": "markdown",
   "metadata": {},
   "source": [
    "## Exercise 6: Smart Retry Logic\n",
    "\n",
    "Create a system that not only interrupts but also suggests how to fix the problem."
   ]
  },
  {
   "cell_type": "code",
   "execution_count": null,
   "metadata": {},
   "outputs": [],
   "source": [
    "class SmartState(TypedDict):\n",
    "    input: str\n",
    "    suggestions: list\n",
    "    retry_count: int\n",
    "\n",
    "def smart_validator(state: SmartState) -> SmartState:\n",
    "    \"\"\"\n",
    "    Validate input and provide helpful suggestions when interrupting\n",
    "    \"\"\"\n",
    "    input_text = state[\"input\"]\n",
    "    suggestions = []\n",
    "    \n",
    "    # Check various conditions and build suggestions\n",
    "    issues = []\n",
    "    \n",
    "    if len(input_text) > 20:\n",
    "        issues.append(\"Input too long\")\n",
    "        suggestions.append(f\"Please shorten your input to 20 characters or less (current: {len(input_text)})\")\n",
    "    \n",
    "    if not input_text.strip():\n",
    "        issues.append(\"Empty input\")\n",
    "        suggestions.append(\"Please provide some input text\")\n",
    "    \n",
    "    if input_text.isupper():\n",
    "        issues.append(\"All caps\")\n",
    "        suggestions.append(\"Please don't use all capital letters\")\n",
    "    \n",
    "    # TODO: If there are issues, raise NodeInterrupt with helpful message\n",
    "    # Include both the issues found and suggestions for fixing them\n",
    "    \n",
    "    if issues:\n",
    "        # TODO: Raise NodeInterrupt with detailed information\n",
    "        pass\n",
    "    \n",
    "    print(\"✅ Input validation passed!\")\n",
    "    return state\n",
    "\n",
    "def process_input(state: SmartState) -> SmartState:\n",
    "    print(f\"Processing: {state['input']}\")\n",
    "    return state\n",
    "\n",
    "# TODO: Build and test your smart validation graph\n",
    "# Test with various inputs that trigger different validation rules"
   ]
  },
  {
   "cell_type": "markdown",
   "metadata": {},
   "source": [
    "## Exercise 7: Dynamic Breakpoint with User Input\n",
    "\n",
    "Create an interactive system where dynamic breakpoints ask for user input to resolve issues."
   ]
  },
  {
   "cell_type": "code",
   "execution_count": null,
   "metadata": {},
   "outputs": [],
   "source": [
    "def interactive_handler(graph, initial_input, thread_config, max_retries=3):\n",
    "    \"\"\"\n",
    "    Handle dynamic breakpoints interactively with user input.\n",
    "    \"\"\"\n",
    "    current_input = initial_input\n",
    "    retry_count = 0\n",
    "    \n",
    "    while retry_count < max_retries:\n",
    "        print(f\"\\n--- Attempt {retry_count + 1} ---\")\n",
    "        \n",
    "        # TODO: Implement the interactive handler\n",
    "        # 1. Run the graph with current input\n",
    "        # 2. Check if it was interrupted\n",
    "        # 3. If interrupted, show the interrupt message to user\n",
    "        # 4. Ask user for corrected input\n",
    "        # 5. Update state and retry\n",
    "        # 6. If successful, break the loop\n",
    "        \n",
    "        try:\n",
    "            # TODO: Add your implementation here\n",
    "            pass\n",
    "            \n",
    "        except Exception as e:\n",
    "            print(f\"Error: {e}\")\n",
    "            break\n",
    "        \n",
    "        retry_count += 1\n",
    "    \n",
    "    if retry_count >= max_retries:\n",
    "        print(\"Maximum retries reached. Process failed.\")\n",
    "\n",
    "# TODO: Test your interactive handler with the smart validation graph"
   ]
  },
  {
   "cell_type": "markdown",
   "metadata": {},
   "source": [
    "## Reflection Questions\n",
    "\n",
    "Answer these questions to test your understanding:\n",
    "\n",
    "1. **What is the main difference between static breakpoints and dynamic breakpoints?**\n",
    "   - Your answer: \n",
    "\n",
    "2. **When would you use `NodeInterrupt` instead of `interrupt_before`?**\n",
    "   - Your answer: \n",
    "\n",
    "3. **What information can you pass to `NodeInterrupt` and where can you access it later?**\n",
    "   - Your answer: \n",
    "\n",
    "4. **What happens if you try to continue execution after a `NodeInterrupt` without updating the state?**\n",
    "   - Your answer: \n",
    "\n",
    "5. **How can dynamic breakpoints be used for error handling and user guidance?**\n",
    "   - Your answer: "
   ]
  },
  {
   "cell_type": "markdown",
   "metadata": {},
   "source": [
    "## Challenge: Adaptive Processing Pipeline\n",
    "\n",
    "**Advanced Exercise:** Create an adaptive processing pipeline that:\n",
    "- Analyzes input complexity and adjusts processing steps accordingly\n",
    "- Uses dynamic breakpoints for quality control at different stages\n",
    "- Provides detailed feedback and suggestions for improvement\n",
    "- Maintains a processing history for audit purposes"
   ]
  },
  {
   "cell_type": "code",
   "execution_count": null,
   "metadata": {},
   "outputs": [],
   "source": [
    "class AdaptiveState(TypedDict):\n",
    "    input: str\n",
    "    complexity_score: float\n",
    "    processing_steps: list\n",
    "    quality_checks: list\n",
    "    history: list\n",
    "    final_output: str\n",
    "\n",
    "# TODO: Implement your adaptive processing pipeline\n",
    "# Consider:\n",
    "# - Text complexity analysis (length, vocabulary, structure)\n",
    "# - Dynamic step selection based on complexity\n",
    "# - Quality gates with intelligent interruption\n",
    "# - Learning from previous processing attempts"
   ]
  }
 ],
 "metadata": {
  "kernelspec": {
   "display_name": "Python 3",
   "language": "python",
   "name": "python3"
  },
  "language_info": {
   "codemirror_mode": {
    "name": "ipython",
    "version": 3
   },
   "file_extension": ".py",
   "name": "python",
   "nbconvert_exporter": "python",
   "pygments_lexer": "ipython3",
   "version": "3.11.0"
  }
 },
 "nbformat": 4,
 "nbformat_minor": 4
}