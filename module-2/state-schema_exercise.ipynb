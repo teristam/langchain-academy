{
 "cells": [
  {
   "cell_type": "markdown",
   "metadata": {},
   "source": [
    "# State Schema - Practice Exercises\n",
    "\n",
    "## Overview\n",
    "This notebook provides hands-on exercises to practice working with different state schema approaches in LangGraph. You'll implement and experiment with TypedDict, Dataclass, and Pydantic state schemas.\n",
    "\n",
    "## Learning Objectives\n",
    "By the end of these exercises, you will:\n",
    "- Understand how to define state schemas using TypedDict, dataclasses, and Pydantic\n",
    "- Know the tradeoffs between different schema approaches\n",
    "- Practice building graphs with custom state schemas\n",
    "- Implement validation logic for state data\n",
    "\n",
    "## Prerequisites\n",
    "- Completed the state-schema.ipynb tutorial\n",
    "- Basic understanding of Python type hints and data structures"
   ]
  },
  {
   "cell_type": "code",
   "execution_count": null,
   "metadata": {},
   "outputs": [],
   "source": [
    "%%capture --no-stderr\n",
    "%pip install --quiet -U langgraph pydantic"
   ]
  },
  {
   "cell_type": "markdown",
   "metadata": {},
   "source": [
    "## Exercise 1: TypedDict State Schema\n",
    "\n",
    "### Task\n",
    "Create a simple task management system using TypedDict. Your state should track:\n",
    "- `task_name`: The name of the current task\n",
    "- `priority`: High, Medium, or Low (use Literal type)\n",
    "- `status`: TODO, IN_PROGRESS, or DONE (use Literal type)\n",
    "- `assigned_to`: The person assigned to the task\n",
    "\n",
    "### TODO: Define your TypedDict state schema"
   ]
  },
  {
   "cell_type": "code",
   "execution_count": null,
   "metadata": {},
   "outputs": [],
   "source": [
    "from typing_extensions import TypedDict, Literal\n",
    "from IPython.display import Image, display\n",
    "from langgraph.graph import StateGraph, START, END\n",
    "\n",
    "# TODO: Define TaskState using TypedDict\n",
    "class TaskState(TypedDict):\n",
    "    # TODO: Add task_name as str\n",
    "    # TODO: Add priority as Literal[\"High\", \"Medium\", \"Low\"]\n",
    "    # TODO: Add status as Literal[\"TODO\", \"IN_PROGRESS\", \"DONE\"]\n",
    "    # TODO: Add assigned_to as str\n",
    "    pass"
   ]
  },
  {
   "cell_type": "markdown",
   "metadata": {},
   "source": [
    "### TODO: Implement task management nodes\n",
    "\n",
    "Create these nodes:\n",
    "1. `assign_task`: Assigns the task to someone (sets assigned_to)\n",
    "2. `start_work`: Changes status from TODO to IN_PROGRESS\n",
    "3. `complete_work`: Changes status from IN_PROGRESS to DONE"
   ]
  },
  {
   "cell_type": "code",
   "execution_count": null,
   "metadata": {},
   "outputs": [],
   "source": [
    "# TODO: Implement assign_task node\n",
    "def assign_task(state):\n",
    "    print(f\"Assigning task: {state['task_name']}\")\n",
    "    # TODO: Return dict to set assigned_to to \"Alice\"\n",
    "    pass\n",
    "\n",
    "# TODO: Implement start_work node\n",
    "def start_work(state):\n",
    "    print(f\"Starting work on: {state['task_name']}\")\n",
    "    # TODO: Return dict to set status to \"IN_PROGRESS\"\n",
    "    pass\n",
    "\n",
    "# TODO: Implement complete_work node\n",
    "def complete_work(state):\n",
    "    print(f\"Completing work on: {state['task_name']}\")\n",
    "    # TODO: Return dict to set status to \"DONE\"\n",
    "    pass"
   ]
  },
  {
   "cell_type": "markdown",
   "metadata": {},
   "source": [
    "### TODO: Build and test your graph\n",
    "\n",
    "Create a graph that:\n",
    "1. Starts at assign_task\n",
    "2. Goes to start_work\n",
    "3. Goes to complete_work\n",
    "4. Ends"
   ]
  },
  {
   "cell_type": "code",
   "execution_count": null,
   "metadata": {},
   "outputs": [],
   "source": [
    "# TODO: Build your graph\n",
    "builder = StateGraph(TaskState)\n",
    "# TODO: Add nodes\n",
    "# TODO: Add edges\n",
    "\n",
    "graph = builder.compile()\n",
    "display(Image(graph.get_graph().draw_mermaid_png()))"
   ]
  },
  {
   "cell_type": "code",
   "execution_count": null,
   "metadata": {},
   "outputs": [],
   "source": [
    "# TODO: Test your graph with initial task data\n",
    "initial_state = {\n",
    "    \"task_name\": \"Implement user authentication\",\n",
    "    \"priority\": \"High\",\n",
    "    \"status\": \"TODO\",\n",
    "    \"assigned_to\": \"\"\n",
    "}\n",
    "\n",
    "result = graph.invoke(initial_state)\n",
    "print(\"Final state:\", result)"
   ]
  },
  {
   "cell_type": "markdown",
   "metadata": {},
   "source": [
    "## Exercise 2: Dataclass State Schema\n",
    "\n",
    "### Task\n",
    "Convert your task management system to use Python dataclasses instead of TypedDict. Notice the differences in how you access state properties.\n",
    "\n",
    "### TODO: Define your dataclass state schema"
   ]
  },
  {
   "cell_type": "code",
   "execution_count": null,
   "metadata": {},
   "outputs": [],
   "source": [
    "from dataclasses import dataclass\n",
    "\n",
    "# TODO: Define TaskDataState using @dataclass decorator\n",
    "@dataclass\n",
    "class TaskDataState:\n",
    "    # TODO: Add the same fields as before but as dataclass attributes\n",
    "    pass"
   ]
  },
  {
   "cell_type": "markdown",
   "metadata": {},
   "source": [
    "### TODO: Update your nodes for dataclass state\n",
    "\n",
    "Modify your nodes to work with dataclass state. Remember that you access dataclass attributes using dot notation (e.g., `state.task_name` instead of `state['task_name']`)."
   ]
  },
  {
   "cell_type": "code",
   "execution_count": null,
   "metadata": {},
   "outputs": [],
   "source": [
    "# TODO: Update assign_task for dataclass state\n",
    "def assign_task_dataclass(state):\n",
    "    print(f\"Assigning task: {state.task_name}\")\n",
    "    # TODO: Return dict to set assigned_to to \"Bob\"\n",
    "    pass\n",
    "\n",
    "# TODO: Update start_work for dataclass state  \n",
    "def start_work_dataclass(state):\n",
    "    # TODO: Access task_name using dot notation\n",
    "    # TODO: Return dict to set status to \"IN_PROGRESS\"\n",
    "    pass\n",
    "\n",
    "# TODO: Update complete_work for dataclass state\n",
    "def complete_work_dataclass(state):\n",
    "    # TODO: Access task_name using dot notation\n",
    "    # TODO: Return dict to set status to \"DONE\"\n",
    "    pass"
   ]
  },
  {
   "cell_type": "code",
   "execution_count": null,
   "metadata": {},
   "outputs": [],
   "source": [
    "# TODO: Build graph with dataclass state\n",
    "builder_dataclass = StateGraph(TaskDataState)\n",
    "# TODO: Add your dataclass nodes\n",
    "# TODO: Add edges\n",
    "\n",
    "graph_dataclass = builder_dataclass.compile()\n",
    "display(Image(graph_dataclass.get_graph().draw_mermaid_png()))"
   ]
  },
  {
   "cell_type": "code",
   "execution_count": null,
   "metadata": {},
   "outputs": [],
   "source": [
    "# TODO: Test with dataclass instance\n",
    "initial_dataclass_state = TaskDataState(\n",
    "    task_name=\"Setup CI/CD pipeline\",\n",
    "    priority=\"Medium\",\n",
    "    status=\"TODO\",\n",
    "    assigned_to=\"\"\n",
    ")\n",
    "\n",
    "result_dataclass = graph_dataclass.invoke(initial_dataclass_state)\n",
    "print(\"Final dataclass state:\", result_dataclass)"
   ]
  },
  {
   "cell_type": "markdown",
   "metadata": {},
   "source": [
    "## Exercise 3: Pydantic State Schema with Validation\n",
    "\n",
    "### Task\n",
    "Now create a Pydantic version of your task state that includes validation. Add custom validators to ensure:\n",
    "- Task names are at least 5 characters long\n",
    "- Priority is one of the allowed values\n",
    "- Status follows a valid progression (TODO → IN_PROGRESS → DONE)\n",
    "\n",
    "### TODO: Define Pydantic state with validation"
   ]
  },
  {
   "cell_type": "code",
   "execution_count": null,
   "metadata": {},
   "outputs": [],
   "source": [
    "from pydantic import BaseModel, field_validator, ValidationError\n",
    "\n",
    "class TaskPydanticState(BaseModel):\n",
    "    task_name: str\n",
    "    priority: Literal[\"High\", \"Medium\", \"Low\"]\n",
    "    status: Literal[\"TODO\", \"IN_PROGRESS\", \"DONE\"]\n",
    "    assigned_to: str\n",
    "\n",
    "    # TODO: Add field validator for task_name\n",
    "    @field_validator('task_name')\n",
    "    @classmethod\n",
    "    def validate_task_name(cls, value):\n",
    "        # TODO: Ensure task name is at least 5 characters\n",
    "        pass\n",
    "        return value\n",
    "    \n",
    "    # TODO: Add field validator for assigned_to\n",
    "    @field_validator('assigned_to')\n",
    "    @classmethod\n",
    "    def validate_assigned_to(cls, value):\n",
    "        # TODO: Ensure assigned_to is not empty when provided\n",
    "        pass\n",
    "        return value"
   ]
  },
  {
   "cell_type": "markdown",
   "metadata": {},
   "source": [
    "### TODO: Test your validation\n",
    "\n",
    "Try to create TaskPydanticState instances with invalid data to see your validation in action."
   ]
  },
  {
   "cell_type": "code",
   "execution_count": null,
   "metadata": {},
   "outputs": [],
   "source": [
    "# TODO: Test validation with invalid task name (too short)\n",
    "try:\n",
    "    invalid_task = TaskPydanticState(\n",
    "        task_name=\"Fix\",  # Too short\n",
    "        priority=\"High\",\n",
    "        status=\"TODO\",\n",
    "        assigned_to=\"Charlie\"\n",
    "    )\n",
    "except ValidationError as e:\n",
    "    print(\"Validation Error for short task name:\", e)\n",
    "\n",
    "# TODO: Test validation with invalid priority\n",
    "try:\n",
    "    invalid_priority = TaskPydanticState(\n",
    "        task_name=\"Setup monitoring system\",\n",
    "        priority=\"Critical\",  # Invalid priority\n",
    "        status=\"TODO\",\n",
    "        assigned_to=\"Dana\"\n",
    "    )\n",
    "except ValidationError as e:\n",
    "    print(\"Validation Error for invalid priority:\", e)"
   ]
  },
  {
   "cell_type": "code",
   "execution_count": null,
   "metadata": {},
   "outputs": [],
   "source": [
    "# TODO: Create valid Pydantic state instance\n",
    "valid_task = TaskPydanticState(\n",
    "    task_name=\"Implement user dashboard\",\n",
    "    priority=\"High\",\n",
    "    status=\"TODO\",\n",
    "    assigned_to=\"Eve\"\n",
    ")\n",
    "\n",
    "print(\"Valid Pydantic state created:\", valid_task)"
   ]
  },
  {
   "cell_type": "markdown",
   "metadata": {},
   "source": [
    "## Exercise 4: Conditional Logic with State Schema\n",
    "\n",
    "### Task\n",
    "Create a more complex workflow that uses conditional edges based on task priority. High priority tasks should get immediate attention, while lower priority tasks go through additional approval.\n",
    "\n",
    "### TODO: Implement priority-based routing"
   ]
  },
  {
   "cell_type": "code",
   "execution_count": null,
   "metadata": {},
   "outputs": [],
   "source": [
    "# TODO: Implement additional nodes\n",
    "def require_approval(state):\n",
    "    print(f\"Task '{state['task_name']}' requires approval (Priority: {state['priority']})\")\n",
    "    return {\"status\": \"PENDING_APPROVAL\"}\n",
    "\n",
    "def approve_task(state):\n",
    "    print(f\"Approving task: {state['task_name']}\")\n",
    "    return {\"status\": \"TODO\"}\n",
    "\n",
    "def fast_track(state):\n",
    "    print(f\"Fast-tracking high priority task: {state['task_name']}\")\n",
    "    return {\"assigned_to\": \"Senior Developer\"}\n",
    "\n",
    "# TODO: Implement conditional logic\n",
    "def route_by_priority(state) -> Literal[\"fast_track\", \"require_approval\"]:\n",
    "    # TODO: Return \"fast_track\" for High priority, \"require_approval\" for others\n",
    "    pass"
   ]
  },
  {
   "cell_type": "code",
   "execution_count": null,
   "metadata": {},
   "outputs": [],
   "source": [
    "# TODO: Extend TaskState to support PENDING_APPROVAL status\n",
    "class ExtendedTaskState(TypedDict):\n",
    "    task_name: str\n",
    "    priority: Literal[\"High\", \"Medium\", \"Low\"]\n",
    "    status: Literal[\"TODO\", \"IN_PROGRESS\", \"DONE\", \"PENDING_APPROVAL\"]\n",
    "    assigned_to: str\n",
    "\n",
    "# TODO: Build conditional graph\n",
    "builder_conditional = StateGraph(ExtendedTaskState)\n",
    "# TODO: Add all nodes (require_approval, approve_task, fast_track, assign_task, etc.)\n",
    "# TODO: Add conditional edges based on priority\n",
    "\n",
    "graph_conditional = builder_conditional.compile()\n",
    "display(Image(graph_conditional.get_graph().draw_mermaid_png()))"
   ]
  },
  {
   "cell_type": "markdown",
   "metadata": {},
   "source": [
    "### TODO: Test conditional routing"
   ]
  },
  {
   "cell_type": "code",
   "execution_count": null,
   "metadata": {},
   "outputs": [],
   "source": [
    "# TODO: Test with high priority task\n",
    "high_priority_task = {\n",
    "    \"task_name\": \"Fix critical security bug\",\n",
    "    \"priority\": \"High\",\n",
    "    \"status\": \"TODO\",\n",
    "    \"assigned_to\": \"\"\n",
    "}\n",
    "\n",
    "print(\"Testing high priority task:\")\n",
    "result_high = graph_conditional.invoke(high_priority_task)\n",
    "print(\"Result:\", result_high)\n",
    "print()\n",
    "\n",
    "# TODO: Test with medium priority task\n",
    "medium_priority_task = {\n",
    "    \"task_name\": \"Update documentation\",\n",
    "    \"priority\": \"Medium\",\n",
    "    \"status\": \"TODO\",\n",
    "    \"assigned_to\": \"\"\n",
    "}\n",
    "\n",
    "print(\"Testing medium priority task:\")\n",
    "result_medium = graph_conditional.invoke(medium_priority_task)\n",
    "print(\"Result:\", result_medium)"
   ]
  },
  {
   "cell_type": "markdown",
   "metadata": {},
   "source": [
    "## Exercise 5: Reflection and Comparison\n",
    "\n",
    "### Task\n",
    "Compare the three approaches you've implemented. Answer these questions:\n",
    "\n",
    "1. **Type Safety**: Which approach provides the best type safety during development?\n",
    "2. **Runtime Validation**: Which approach catches errors at runtime?\n",
    "3. **Performance**: Which approach has the least overhead?\n",
    "4. **Developer Experience**: Which approach is easiest to work with?\n",
    "\n",
    "### TODO: Write your analysis"
   ]
  },
  {
   "cell_type": "markdown",
   "metadata": {},
   "source": [
    "**Your Analysis Here:**\n",
    "\n",
    "1. **TypedDict**:\n",
    "   - Pros: \n",
    "   - Cons: \n",
    "   - Best for: \n",
    "\n",
    "2. **Dataclass**:\n",
    "   - Pros: \n",
    "   - Cons: \n",
    "   - Best for: \n",
    "\n",
    "3. **Pydantic**:\n",
    "   - Pros: \n",
    "   - Cons: \n",
    "   - Best for: "
   ]
  },
  {
   "cell_type": "markdown",
   "metadata": {},
   "source": [
    "## Challenge Exercise: Mixed State Schema\n",
    "\n",
    "### Task\n",
    "Create a complex project management system that combines multiple data types:\n",
    "- Basic project info (TypedDict)\n",
    "- Team member info (Pydantic with validation)\n",
    "- Task list (using list of dataclasses)\n",
    "\n",
    "This exercise demonstrates how you might need to work with different schema types in a real application.\n",
    "\n",
    "### TODO: Implement mixed schema system"
   ]
  },
  {
   "cell_type": "code",
   "execution_count": null,
   "metadata": {},
   "outputs": [],
   "source": [
    "from typing import List\n",
    "from dataclasses import dataclass\n",
    "from datetime import datetime\n",
    "\n",
    "# TODO: Define mixed state schema\n",
    "@dataclass\n",
    "class Task:\n",
    "    name: str\n",
    "    assignee: str\n",
    "    completed: bool = False\n",
    "\n",
    "class TeamMember(BaseModel):\n",
    "    name: str\n",
    "    role: Literal[\"Developer\", \"Designer\", \"Manager\", \"QA\"]\n",
    "    email: str\n",
    "    \n",
    "    @field_validator('email')\n",
    "    @classmethod\n",
    "    def validate_email(cls, value):\n",
    "        # TODO: Add basic email validation\n",
    "        pass\n",
    "\n",
    "class ProjectState(TypedDict):\n",
    "    project_name: str\n",
    "    team_members: List[TeamMember]\n",
    "    tasks: List[Task]\n",
    "    status: Literal[\"Planning\", \"Active\", \"Complete\"]\n",
    "\n",
    "# TODO: Implement nodes that work with this mixed schema\n",
    "def add_team_member(state):\n",
    "    # TODO: Add a new team member to the project\n",
    "    pass\n",
    "\n",
    "def create_task(state):\n",
    "    # TODO: Create a new task and assign it to a team member\n",
    "    pass\n",
    "\n",
    "def complete_task(state):\n",
    "    # TODO: Mark the first incomplete task as complete\n",
    "    pass\n",
    "\n",
    "print(\"Mixed schema system defined - implement the TODOs to make it work!\")"
   ]
  },
  {
   "cell_type": "markdown",
   "metadata": {},
   "source": [
    "## Summary\n",
    "\n",
    "In these exercises, you've practiced:\n",
    "- Creating state schemas with TypedDict, dataclasses, and Pydantic\n",
    "- Understanding the tradeoffs between different approaches\n",
    "- Implementing validation logic\n",
    "- Building conditional workflows based on state\n",
    "- Working with complex, mixed data types\n",
    "\n",
    "Key takeaways:\n",
    "- **TypedDict**: Lightweight, good for simple cases, no runtime validation\n",
    "- **Dataclass**: Clean syntax, good developer experience, no runtime validation\n",
    "- **Pydantic**: Powerful validation, best for production systems, slight performance overhead\n",
    "- Choose the right tool based on your specific needs and constraints\n",
    "\n",
    "Next, continue with the state-reducers exercises to learn how to customize state updates!"
   ]
  }
 ],
 "metadata": {
  "kernelspec": {
   "display_name": "Python 3",
   "language": "python",
   "name": "python3"
  },
  "language_info": {
   "codemirror_mode": {
    "name": "ipython",
    "version": 3
   },
   "file_extension": ".py",
   "name": "python",
   "nbconvert_exporter": "python",
   "pygments_lexer": "ipython3",
   "version": "3.11.0"
  }
 },
 "nbformat": 4,
 "nbformat_minor": 4
}