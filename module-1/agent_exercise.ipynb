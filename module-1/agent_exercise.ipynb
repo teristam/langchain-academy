{
 "cells": [
  {
   "cell_type": "markdown",
   "metadata": {},
   "source": [
    "[![Open in Colab](https://colab.research.google.com/assets/colab-badge.svg)](https://colab.research.google.com/github/langchain-ai/langchain-academy/blob/main/module-1/agent_exercise.ipynb) [![Open in LangChain Academy](https://cdn.prod.website-files.com/65b8cd72835ceeacd4449a53/66e9eba12c7b7688aa3dbb5e_LCA-badge-green.svg)](https://academy.langchain.com/courses/take/intro-to-langgraph/lessons/58239232-lesson-6-agent)"
   ]
  },
  {
   "cell_type": "markdown",
   "metadata": {},
   "source": [
    "# Agent Exercise: Building a ReAct Agent\n",
    "\n",
    "## Learning Objectives\n",
    "\n",
    "By the end of this exercise, you will be able to:\n",
    "1. Understand the ReAct (Reason + Act) agent architecture\n",
    "2. Build a tool-calling agent with multiple tools\n",
    "3. Create loops in LangGraph for iterative agent behavior\n",
    "4. Debug and trace agent execution using LangSmith\n",
    "\n",
    "## Background: From Router to Agent\n",
    "\n",
    "In the previous lesson, we built a router that could decide whether to call a tool or end. Now we'll extend this into a full agent that can:\n",
    "- **Act**: Call specific tools based on user input\n",
    "- **Observe**: Receive tool outputs\n",
    "- **Reason**: Decide what to do next (call another tool or respond)\n",
    "\n",
    "This creates a loop where the agent can chain multiple tool calls together to solve complex problems."
   ]
  },
  {
   "cell_type": "code",
   "execution_count": null,
   "metadata": {},
   "outputs": [],
   "source": [
    "%%capture --no-stderr\n",
    "%pip install --quiet -U langchain_openai langchain_core langgraph langgraph-prebuilt"
   ]
  },
  {
   "cell_type": "code",
   "execution_count": 1,
   "metadata": {},
   "outputs": [],
   "source": [
    "import os, getpass\n",
    "\n",
    "def _set_env(var: str):\n",
    "    if not os.environ.get(var):\n",
    "        os.environ[var] = getpass.getpass(f\"{var}: \")\n",
    "\n",
    "_set_env(\"OPENAI_API_KEY\")"
   ]
  },
  {
   "cell_type": "code",
   "execution_count": 5,
   "metadata": {},
   "outputs": [],
   "source": [
    "# Optional: Set up LangSmith tracing\n",
    "_set_env(\"LANGSMITH_API_KEY\")\n",
    "os.environ[\"LANGSMITH_TRACING\"] = \"true\"\n",
    "os.environ[\"LANGSMITH_PROJECT\"] = \"langchain-academy-exercises\""
   ]
  },
  {
   "cell_type": "markdown",
   "metadata": {},
   "source": [
    "## Exercise 1: Define Your Tools\n",
    "\n",
    "**Task**: Create a set of mathematical tools for your agent. Start with the basic ones provided, then add your own.\n",
    "\n",
    "**Instructions**:\n",
    "1. Complete the `subtract` function below\n",
    "2. Add a `power` function that raises a number to a power\n",
    "3. Add a `square_root` function that calculates the square root\n",
    "4. Make sure all functions have proper docstrings with type hints"
   ]
  },
  {
   "cell_type": "code",
   "execution_count": 6,
   "metadata": {},
   "outputs": [],
   "source": [
    "from langchain_openai import ChatOpenAI\n",
    "import math\n",
    "\n",
    "def multiply(a: int, b: int) -> int:\n",
    "    \"\"\"Multiply a and b.\n",
    "\n",
    "    Args:\n",
    "        a: first int\n",
    "        b: second int\n",
    "    \"\"\"\n",
    "    return a * b\n",
    "\n",
    "def add(a: int, b: int) -> int:\n",
    "    \"\"\"Adds a and b.\n",
    "\n",
    "    Args:\n",
    "        a: first int\n",
    "        b: second int\n",
    "    \"\"\"\n",
    "    return a + b\n",
    "\n",
    "def divide(a: int, b: int) -> float:\n",
    "    \"\"\"Divide a and b.\n",
    "\n",
    "    Args:\n",
    "        a: first int\n",
    "        b: second int\n",
    "    \"\"\"\n",
    "    return a / b\n",
    "\n",
    "# TODO: Complete this function\n",
    "def subtract(a: int, b: int) -> int:\n",
    "    \"\"\"Subtract b from a.\n",
    "\n",
    "    Args:\n",
    "        a: first int\n",
    "        b: second int\n",
    "    \"\"\"\n",
    "    return a - b\n",
    "\n",
    "# TODO: Add your power function here\n",
    "def power(a: int, b: int) -> float:\n",
    "    \"\"\"Raise a to the power of b.\n",
    "\n",
    "    Args:\n",
    "        a: base number\n",
    "        b: exponent\n",
    "    \"\"\"\n",
    "    return a**b\n",
    "\n",
    "# TODO: Add your square_root function here\n",
    "def square_root(a: float) -> float:\n",
    "    \"\"\"Calculate the square root of a.\n",
    "\n",
    "    Args:\n",
    "        a: number to calculate square root of\n",
    "    \"\"\"\n",
    "    # YOUR CODE HERE\n",
    "    return a**(0.5)\n",
    "\n",
    "# Update this list with your new tools\n",
    "tools = [add, multiply, divide, subtract, power, square_root]  # TODO: Add your new tools here\n",
    "\n",
    "\n",
    "llm = ChatOpenAI(model=\"gpt-4o\")\n",
    "llm_with_tools = llm.bind_tools(tools, parallel_tool_calls=False)"
   ]
  },
  {
   "cell_type": "markdown",
   "metadata": {},
   "source": [
    "## Exercise 2: Create the Assistant Node\n",
    "\n",
    "**Task**: Define your assistant node with an appropriate system message.\n",
    "\n",
    "**Instructions**:\n",
    "1. Complete the system message to give your agent clear instructions\n",
    "2. Think about what personality or behavior you want your agent to have\n",
    "3. Consider what constraints or guidelines you want to provide"
   ]
  },
  {
   "cell_type": "code",
   "execution_count": 7,
   "metadata": {},
   "outputs": [
    {
     "data": {
      "text/plain": [
       "{'messages': [AIMessage(content='Hello! How can I assist you today?', additional_kwargs={'refusal': None}, response_metadata={'token_usage': {'completion_tokens': 10, 'prompt_tokens': 215, 'total_tokens': 225, 'completion_tokens_details': {'accepted_prediction_tokens': 0, 'audio_tokens': 0, 'reasoning_tokens': 0, 'rejected_prediction_tokens': 0}, 'prompt_tokens_details': {'audio_tokens': 0, 'cached_tokens': 0}}, 'model_name': 'gpt-4o-2024-08-06', 'system_fingerprint': 'fp_46bff0e0c8', 'id': 'chatcmpl-CAgUd2QQXvUmmzPTg5RRwOniMxFs5', 'service_tier': 'default', 'finish_reason': 'stop', 'logprobs': None}, id='run--686c6c95-e6a6-4cc5-959a-bdd07cdd9ba6-0', usage_metadata={'input_tokens': 215, 'output_tokens': 10, 'total_tokens': 225, 'input_token_details': {'audio': 0, 'cache_read': 0}, 'output_token_details': {'audio': 0, 'reasoning': 0}})]}"
      ]
     },
     "execution_count": 7,
     "metadata": {},
     "output_type": "execute_result"
    }
   ],
   "source": [
    "from langgraph.graph import MessagesState\n",
    "from langchain_core.messages import HumanMessage, SystemMessage\n",
    "\n",
    "# TODO: Complete this system message\n",
    "sys_msg = SystemMessage(content=\"You are a helpful assistant tasked with helping the user answer questions\")\n",
    "\n",
    "def assistant(state: MessagesState):\n",
    "    return {'messages': [llm_with_tools.invoke([sys_msg]+state['messages'])]}\n",
    "\n",
    "assistant({'messages':[HumanMessage(content='Hello.')]})"
   ]
  },
  {
   "cell_type": "markdown",
   "metadata": {},
   "source": [
    "## Exercise 3: Build Your Agent Graph\n",
    "\n",
    "**Task**: Create the agent graph with proper connections.\n",
    "\n",
    "**Instructions**:\n",
    "1. Add the assistant and tools nodes\n",
    "2. Create the correct edges:\n",
    "   - From START to assistant\n",
    "   - Conditional edge from assistant (using tools_condition)\n",
    "   - Edge from tools back to assistant (this creates the loop!)\n",
    "3. Compile and visualize your graph"
   ]
  },
  {
   "cell_type": "code",
   "execution_count": 9,
   "metadata": {},
   "outputs": [
    {
     "data": {
      "image/png": "[encoded data removed]",
      "text/plain": [
       "<IPython.core.display.Image object>"
      ]
     },
     "metadata": {},
     "output_type": "display_data"
    }
   ],
   "source": [
    "from langgraph.graph import START, StateGraph\n",
    "from langgraph.prebuilt import tools_condition, ToolNode\n",
    "from IPython.display import Image, display\n",
    "from langgraph.checkpoint.memory import MemorySaver\n",
    "\n",
    "# TODO: Create your graph\n",
    "builder = StateGraph(MessagesState)\n",
    "\n",
    "# TODO: Add nodes\n",
    "builder.add_node('assistant', assistant)\n",
    "builder.add_node('tools', ToolNode(tools))\n",
    "\n",
    "# TODO: Add edges\n",
    "builder.add_edge(START, 'assistant')\n",
    "builder.add_conditional_edges('assistant', tools_condition) # will either go to tool or end\n",
    "builder.add_edge('tools', 'assistant')\n",
    "# builder.add_conditional_edges(...)\n",
    "\n",
    "# configure memory\n",
    "\n",
    "memory = MemorySaver()\n",
    "# TODO: Compile your graph\n",
    "agent_graph = builder.compile(checkpointer=memory)\n",
    "\n",
    "# Visualize the graph\n",
    "display(Image(agent_graph.get_graph(xray=True).draw_mermaid_png()))"
   ]
  },
  {
   "cell_type": "markdown",
   "metadata": {},
   "source": [
    "## Exercise 4: Test Your Agent\n",
    "\n",
    "**Task**: Test your agent with increasingly complex mathematical problems.\n",
    "\n",
    "**Instructions**:\n",
    "1. Start with simple problems and work your way up\n",
    "2. Test each of your tools\n",
    "3. Try problems that require multiple tool calls\n",
    "4. Observe how the agent chains operations together"
   ]
  },
  {
   "cell_type": "code",
   "execution_count": 22,
   "metadata": {},
   "outputs": [
    {
     "name": "stdout",
     "output_type": "stream",
     "text": [
      "=== Test 1: Simple Addition ===\n",
      "Dividing by zero is undefined in mathematics. Therefore, 12 divided by 0 does not have a defined value.\n",
      "\n",
      "=== Test 2: Chain Operations ===\n",
      "The result of \\((8 + 12) * 3\\) divided by 4 is \\(15.0\\).\n",
      "\n",
      "=== Test 3: Complex Calculation ===\n",
      "The square root of \\(-1\\) in the context of complex numbers is represented as \\(i\\), where \\(i\\) is the imaginary unit. \n",
      "\n",
      "Raising \\(i\\) to the power of 3 gives us:\n",
      "\n",
      "\\[i^3 = i \\cdot i \\cdot i = i^2 \\cdot i = (-1) \\cdot i = -i\\]\n",
      "\n",
      "So, the result of raising the square root of \\(-1\\) to the power of 3 is \\(-i\\).\n"
     ]
    }
   ],
   "source": [
    "# Test 1: Simple addition\n",
    "print(\"=== Test 1: Simple Addition ===\")\n",
    "messages = [HumanMessage(content=\"What is 12/0?\")]\n",
    "# TODO: Invoke your agent and print the results\n",
    "results = agent_graph.invoke({'messages':messages})\n",
    "print(results['messages'][-1].content)\n",
    "\n",
    "# Test 2: Chain operations\n",
    "print(\"\\n=== Test 2: Chain Operations ===\")\n",
    "messages = [HumanMessage(content=\"Calculate (8 + 12) * 3, then divide by 4\")]\n",
    "results = agent_graph.invoke({'messages':messages})\n",
    "print(results['messages'][-1].content)\n",
    "\n",
    "# Test 3: Complex calculation\n",
    "print(\"\\n=== Test 3: Complex Calculation ===\")\n",
    "messages = [HumanMessage(content=\"What is the square root of -1, then raise that to the power of 3?\")]\n",
    "results = agent_graph.invoke({'messages':messages})\n",
    "print(results['messages'][-1].content)"
   ]
  },
  {
   "cell_type": "markdown",
   "metadata": {},
   "source": [
    "## with memory from last thread"
   ]
  },
  {
   "cell_type": "code",
   "execution_count": null,
   "metadata": {},
   "outputs": [
    {
     "name": "stdout",
     "output_type": "stream",
     "text": [
      "=== Test 1: Simple Addition ===\n",
      "================================\u001b[1m Human Message \u001b[0m=================================\n",
      "\n",
      "What is 3 * 4?\n",
      "==================================\u001b[1m Ai Message \u001b[0m==================================\n",
      "Tool Calls:\n",
      "  multiply (call_1dbHuX7IVkTVeppC7FFGJsZg)\n",
      " Call ID: call_1dbHuX7IVkTVeppC7FFGJsZg\n",
      "  Args:\n",
      "    a: 3\n",
      "    b: 4\n",
      "=================================\u001b[1m Tool Message \u001b[0m=================================\n",
      "Name: multiply\n",
      "\n",
      "12\n",
      "==================================\u001b[1m Ai Message \u001b[0m==================================\n",
      "\n",
      "\\(3 \\times 4\\) equals 12.\n",
      "\n",
      "=== Test 2: Chain Operations ===\n",
      "================================\u001b[1m Human Message \u001b[0m=================================\n",
      "\n",
      "What is 3 * 4?\n",
      "==================================\u001b[1m Ai Message \u001b[0m==================================\n",
      "Tool Calls:\n",
      "  multiply (call_1dbHuX7IVkTVeppC7FFGJsZg)\n",
      " Call ID: call_1dbHuX7IVkTVeppC7FFGJsZg\n",
      "  Args:\n",
      "    a: 3\n",
      "    b: 4\n",
      "=================================\u001b[1m Tool Message \u001b[0m=================================\n",
      "Name: multiply\n",
      "\n",
      "12\n",
      "==================================\u001b[1m Ai Message \u001b[0m==================================\n",
      "\n",
      "\\(3 \\times 4\\) equals 12.\n",
      "================================\u001b[1m Human Message \u001b[0m=================================\n",
      "\n",
      "Multiply that by 10\n",
      "==================================\u001b[1m Ai Message \u001b[0m==================================\n",
      "Tool Calls:\n",
      "  multiply (call_pvCscJ4waZTLY2S3CPvJMxXP)\n",
      " Call ID: call_pvCscJ4waZTLY2S3CPvJMxXP\n",
      "  Args:\n",
      "    a: 12\n",
      "    b: 10\n",
      "=================================\u001b[1m Tool Message \u001b[0m=================================\n",
      "Name: multiply\n",
      "\n",
      "120\n",
      "==================================\u001b[1m Ai Message \u001b[0m==================================\n",
      "\n",
      "Multiplying 12 by 10 gives \\(120\\).\n"
     ]
    }
   ],
   "source": [
    "#test with memory\n",
    "config = {'configurable': {'thread_id': '4'}}\n",
    "\n",
    "print(\"=== Test 1: Simple Addition ===\")\n",
    "messages = [HumanMessage(content=\"What is 3 * 4?\")]\n",
    "# it will restore the last checkpoint from the thread\n",
    "results = agent_graph.invoke({'messages':messages}, config=config)\n",
    "for m in results['messages']:\n",
    "    m.pretty_print()\n",
    "\n",
    "# Test 2: Chain operations\n",
    "print(\"\\n=== Test 2: Chain Operations ===\")\n",
    "messages = [HumanMessage(content=\"Multiply that by 10\")]\n",
    "results = agent_graph.invoke({'messages':messages}, config=config)\n",
    "\n",
    "for m in results['messages']:\n",
    "    m.pretty_print()\n"
   ]
  },
  {
   "cell_type": "markdown",
   "metadata": {},
   "source": [
    "## Exercise 5: Add Error Handling\n",
    "\n",
    "**Task**: Make your agent more robust by handling potential errors.\n",
    "\n",
    "**Instructions**:\n",
    "1. Modify your `divide` function to handle division by zero\n",
    "2. Modify your `square_root` function to handle negative numbers\n",
    "3. Test your agent with problematic inputs"
   ]
  },
  {
   "cell_type": "code",
   "execution_count": null,
   "metadata": {},
   "outputs": [],
   "source": [
    "# TODO: Create improved versions of your tools with error handling\n",
    "\n",
    "def safe_divide(a: int, b: int) -> float:\n",
    "    \"\"\"Safely divide a by b, handling division by zero.\n",
    "\n",
    "    Args:\n",
    "        a: numerator\n",
    "        b: denominator\n",
    "    \"\"\"\n",
    "    # YOUR CODE HERE\n",
    "    pass\n",
    "\n",
    "def safe_square_root(a: float) -> float:\n",
    "    \"\"\"Safely calculate square root, handling negative numbers.\n",
    "\n",
    "    Args:\n",
    "        a: number to calculate square root of\n",
    "    \"\"\"\n",
    "    # YOUR CODE HERE\n",
    "    pass\n",
    "\n",
    "# Test error cases\n",
    "print(\"=== Testing Error Handling ===\")\n",
    "# TODO: Test with division by zero\n",
    "# TODO: Test with square root of negative number"
   ]
  },
  {
   "cell_type": "markdown",
   "metadata": {},
   "source": [
    "## Exercise 6: Extend with New Tool Categories\n",
    "\n",
    "**Task**: Add non-mathematical tools to demonstrate the agent's versatility.\n",
    "\n",
    "**Instructions**:\n",
    "1. Add string manipulation tools (e.g., `reverse_string`, `count_words`)\n",
    "2. Add utility tools (e.g., `get_current_time`, `generate_random_number`)\n",
    "3. Update your system message to reflect the new capabilities\n",
    "4. Test with mixed requests that combine math and other operations"
   ]
  },
  {
   "cell_type": "code",
   "execution_count": null,
   "metadata": {},
   "outputs": [],
   "source": [
    "import random\n",
    "from datetime import datetime\n",
    "\n",
    "# TODO: Add string manipulation tools\n",
    "def reverse_string(text: str) -> str:\n",
    "    \"\"\"Reverse the given string.\n",
    "\n",
    "    Args:\n",
    "        text: string to reverse\n",
    "    \"\"\"\n",
    "    # YOUR CODE HERE\n",
    "    pass\n",
    "\n",
    "def count_words(text: str) -> int:\n",
    "    \"\"\"Count the number of words in the text.\n",
    "\n",
    "    Args:\n",
    "        text: string to count words in\n",
    "    \"\"\"\n",
    "    # YOUR CODE HERE\n",
    "    pass\n",
    "\n",
    "# TODO: Add utility tools\n",
    "def get_current_time() -> str:\n",
    "    \"\"\"Get the current date and time.\"\"\"\n",
    "    # YOUR CODE HERE\n",
    "    pass\n",
    "\n",
    "def generate_random_number(min_val: int, max_val: int) -> int:\n",
    "    \"\"\"Generate a random number between min_val and max_val (inclusive).\n",
    "\n",
    "    Args:\n",
    "        min_val: minimum value\n",
    "        max_val: maximum value\n",
    "    \"\"\"\n",
    "    # YOUR CODE HERE\n",
    "    pass\n",
    "\n",
    "# TODO: Update your tools list and rebuild your agent\n",
    "# extended_tools = [...]\n",
    "# llm_with_extended_tools = llm.bind_tools(extended_tools, parallel_tool_calls=False)\n",
    "\n",
    "# TODO: Create a new assistant with updated system message\n",
    "# def extended_assistant(state: MessagesState):\n",
    "#     updated_sys_msg = SystemMessage(content=\"...\")\n",
    "#     return {\"messages\": [llm_with_extended_tools.invoke([updated_sys_msg] + state[\"messages\"])]}"
   ]
  },
  {
   "cell_type": "markdown",
   "metadata": {},
   "source": [
    "## Exercise 7: Test Mixed Operations\n",
    "\n",
    "**Task**: Create test cases that require your agent to use different types of tools in sequence.\n",
    "\n",
    "**Instructions**:\n",
    "1. Design complex workflows that mix mathematical and non-mathematical operations\n",
    "2. Test the agent's ability to maintain context across different tool types\n",
    "3. Observe how the agent decides which tools to use and in what order"
   ]
  },
  {
   "cell_type": "code",
   "execution_count": null,
   "metadata": {},
   "outputs": [],
   "source": [
    "# TODO: Create and test mixed operation scenarios\n",
    "\n",
    "# Example ideas:\n",
    "# - \"Generate a random number between 1 and 10, then calculate its square\"\n",
    "# - \"Count the words in 'Hello world from LangChain', then multiply by 5\"\n",
    "# - \"What's the current time, and also what's 25 + 17?\"\n",
    "\n",
    "test_cases = [\n",
    "    # TODO: Add your test cases here\n",
    "]\n",
    "\n",
    "# TODO: Run each test case and analyze the results"
   ]
  },
  {
   "cell_type": "markdown",
   "metadata": {},
   "source": [
    "## Reflection Questions\n",
    "\n",
    "After completing the exercises, consider these questions:\n",
    "\n",
    "1. **Tool Selection**: How does the agent decide which tools to use? What happens when multiple tools could solve the same problem?\n",
    "\n",
    "2. **Error Recovery**: How well does your agent handle errors? What improvements could you make to error handling?\n",
    "\n",
    "3. **Loop Behavior**: When does the agent decide to stop calling tools? How could you influence this behavior?\n",
    "\n",
    "4. **System Message Impact**: How does changing the system message affect agent behavior? Try different personalities or constraints.\n",
    "\n",
    "5. **Tool Design**: What makes a good tool for an agent? How should you design tools for optimal agent performance?\n",
    "\n",
    "## Challenge: Build a Specialized Agent\n",
    "\n",
    "**Task**: Create an agent specialized for a specific domain (e.g., data analysis, text processing, or unit conversions).\n",
    "\n",
    "**Requirements**:\n",
    "1. Choose a domain and create 5-7 specialized tools\n",
    "2. Write a comprehensive system message for your domain\n",
    "3. Test with domain-specific complex scenarios\n",
    "4. Document your agent's capabilities and limitations\n",
    "\n",
    "## Next Steps\n",
    "\n",
    "Congratulations! You've built a fully functional ReAct agent. In the next modules, you'll learn about:\n",
    "- State management and memory\n",
    "- Human-in-the-loop workflows\n",
    "- Advanced agent patterns\n",
    "- Multi-agent systems\n",
    "\n",
    "## Resources\n",
    "\n",
    "- [ReAct Paper](https://react-lm.github.io/)\n",
    "- [LangGraph Documentation](https://langchain-ai.github.io/langgraph/)\n",
    "- [LangChain Tool Calling Guide](https://python.langchain.com/docs/how_to/tool_calling/)"
   ]
  },
  {
   "cell_type": "markdown",
   "metadata": {},
   "source": [
    "---\n",
    "*This exercise notebook is part of LangChain Academy Module 1. For more resources and the complete course, visit [LangChain Academy](https://academy.langchain.com/).*"
   ]
  }
 ],
 "metadata": {
  "kernelspec": {
   "display_name": "langchain-academy (3.13.2)",
   "language": "python",
   "name": "python3"
  },
  "language_info": {
   "codemirror_mode": {
    "name": "ipython",
    "version": 3
   },
   "file_extension": ".py",
   "mimetype": "text/x-python",
   "name": "python",
   "nbconvert_exporter": "python",
   "pygments_lexer": "ipython3",
   "version": "3.13.2"
  }
 },
 "nbformat": 4,
 "nbformat_minor": 4
}
