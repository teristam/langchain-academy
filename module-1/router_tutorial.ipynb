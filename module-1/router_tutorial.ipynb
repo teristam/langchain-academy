{
  "cells": [
    {
      "cell_type": "markdown",
      "metadata": {},
      "source": [
        "[![Open in Colab](https://colab.research.google.com/assets/colab-badge.svg)](https://colab.research.google.com/github/langchain-ai/langchain-academy/blob/main/module-1/router_tutorial.ipynb) [![Open in LangChain Academy](https://cdn.prod.website-files.com/65b8cd72835ceeacd4449a53/66e9eba12c7b7688aa3dbb5e_LCA-badge-green.svg)](https://academy.langchain.com/courses/take/intro-to-langgraph/lessons/58239412-lesson-5-router)\n",
        "\n",
        "# Interactive Tutorial: Building Routers in LangGraph\n",
        "\n",
        "## Learning Objectives\n",
        "\n",
        "By the end of this tutorial, you will be able to:\n",
        "\n",
        "1. **Understand routing concepts** - Explain how LLMs can direct control flow in applications\n",
        "2. **Set up tools with chat models** - Bind tools to language models for dynamic execution\n",
        "3. **Build graph nodes** - Create nodes for LLM responses and tool execution\n",
        "4. **Use conditional edges** - Implement routing logic based on LLM output\n",
        "5. **Create complete graphs** - Assemble all components into a functional router\n",
        "6. **Test and validate** - Experiment with different inputs to understand routing behavior\n",
        "\n",
        "## What is a Router?\n",
        "\n",
        "A **router** is a fundamental concept in AI applications where a language model acts as a \"traffic controller,\" deciding whether to:\n",
        "- Provide a direct response to the user\n",
        "- Call one or more tools to gather information or perform actions\n",
        "\n",
        "Think of it like a smart assistant that can either answer directly from knowledge or use specific tools when needed.\n",
        "\n",
        "![Router Concept](https://cdn.prod.website-files.com/65b8cd72835ceeacd4449a53/66dbac6543c3d4df239a4ed1_router1.png)\n",
        "\n",
        "### Real-World Analogy\n",
        "Imagine you're at a restaurant and ask the waiter \"What time is it?\" The waiter might:\n",
        "1. **Direct response**: Look at their watch and tell you the time\n",
        "2. **Tool call**: Use their phone to check the exact time\n",
        "\n",
        "Similarly, our LLM router decides the best approach based on the question."
      ]
    },
    {
      "cell_type": "markdown",
      "metadata": {},
      "source": [
        "## Setup: Installing Dependencies\n",
        "\n",
        "Let's start by installing the required packages:"
      ]
    },
    {
      "cell_type": "code",
      "execution_count": null,
      "metadata": {},
      "outputs": [],
      "source": [
        "%%capture --no-stderr\n",
        "%pip install --quiet -U langchain_openai langchain_core langgraph langgraph-prebuilt"
      ]
    },
    {
      "cell_type": "markdown",
      "metadata": {},
      "source": [
        "Now let's set up our API key. You'll need an OpenAI API key to run this tutorial:"
      ]
    },
    {
      "cell_type": "code",
      "execution_count": null,
      "metadata": {},
      "outputs": [],
      "source": [
        "import os, getpass\n",
        "\n",
        "def _set_env(var: str):\n",
        "    if not os.environ.get(var):\n",
        "        os.environ[var] = getpass.getpass(f\"{var}: \")\n",
        "\n",
        "_set_env(\"OPENAI_API_KEY\")"
      ]
    },
    {
      "cell_type": "markdown",
      "metadata": {},
      "source": [
        "## Step 1: Understanding Tools and Function Calling\n",
        "\n",
        "### Concept Explanation\n",
        "\n",
        "**Tools** in LangGraph are Python functions that the LLM can call to perform specific tasks. The LLM doesn't execute the code directly - instead, it identifies when a tool should be used and provides the parameters.\n",
        "\n",
        "### Example: Creating a Simple Tool\n",
        "\n",
        "Let's start with a basic multiplication tool:"
      ]
    },
    {
      "cell_type": "code",
      "execution_count": 4,
      "metadata": {},
      "outputs": [
        {
          "name": "stdout",
          "output_type": "stream",
          "text": [
            "Tool created and bound to LLM successfully!\n"
          ]
        }
      ],
      "source": [
        "from langchain_openai import ChatOpenAI\n",
        "\n",
        "def multiply(a: int, b: int) -> int:\n",
        "    \"\"\"Multiply a and b.\n",
        "\n",
        "    Args:\n",
        "        a: first int\n",
        "        b: second int\n",
        "    \"\"\"\n",
        "    return a * b\n",
        "\n",
        "# Create the LLM and bind our tool to it\n",
        "llm = ChatOpenAI(model=\"gpt-4o\")\n",
        "llm_with_tools = llm.bind_tools([multiply])\n",
        "\n",
        "print(\"Tool created and bound to LLM successfully!\")\n",
        "# print(f\"Available tools: {[tool.name for tool in llm_with_tools.bound]}\")"
      ]
    },
    {
      "cell_type": "markdown",
      "metadata": {},
      "source": [
        "### Exercise 1: Test Tool Binding\n",
        "\n",
        "Let's test what happens when we ask the LLM a question that might require the multiply tool:"
      ]
    },
    {
      "cell_type": "code",
      "execution_count": 5,
      "metadata": {},
      "outputs": [
        {
          "name": "stdout",
          "output_type": "stream",
          "text": [
            "Response type: <class 'langchain_core.messages.ai.AIMessage'>\n",
            "Response content: \n",
            "Tool calls: [{'name': 'multiply', 'args': {'a': 7, 'b': 9}, 'id': 'call_vWDAqN1WDQeR4E9DANfKMHYJ', 'type': 'tool_call'}]\n"
          ]
        }
      ],
      "source": [
        "from langchain_core.messages import HumanMessage\n",
        "\n",
        "# Test with a multiplication question\n",
        "response = llm_with_tools.invoke([HumanMessage(content=\"What is 7 multiplied by 9?\")])\n",
        "print(\"Response type:\", type(response))\n",
        "print(\"Response content:\", response.content)\n",
        "print(\"Tool calls:\", response.tool_calls if hasattr(response, 'tool_calls') else \"None\")"
      ]
    },
    {
      "cell_type": "code",
      "execution_count": 6,
      "metadata": {},
      "outputs": [
        {
          "name": "stdout",
          "output_type": "stream",
          "text": [
            "Response type: <class 'langchain_core.messages.ai.AIMessage'>\n",
            "Response content: Hello! I'm just a computer program, so I don't have feelings, but I'm here and ready to help you. How can I assist you today?\n",
            "Tool calls: []\n"
          ]
        }
      ],
      "source": [
        "# Now test with a non-multiplication question\n",
        "response2 = llm_with_tools.invoke([HumanMessage(content=\"Hello! How are you today?\")])\n",
        "print(\"Response type:\", type(response2))\n",
        "print(\"Response content:\", response2.content)\n",
        "print(\"Tool calls:\", response2.tool_calls if hasattr(response2, 'tool_calls') else \"None\")"
      ]
    },
    {
      "cell_type": "markdown",
      "metadata": {},
      "source": [
        "### Reflection Questions\n",
        "\n",
        "1. What difference did you notice between the two responses?\n",
        "2. When did the LLM decide to use a tool call vs. a direct response?\n",
        "3. What information is included in a tool call?\n",
        "\n",
        "_Take a moment to think about these questions before continuing._"
      ]
    },
    {
      "cell_type": "markdown",
      "metadata": {},
      "source": [
        "## Step 2: Creating Additional Tools\n",
        "\n",
        "Let's expand our toolkit with more functions to make our router more interesting:\n",
        "\n",
        "### Exercise 2: Create Your Own Tools"
      ]
    },
    {
      "cell_type": "code",
      "execution_count": 7,
      "metadata": {},
      "outputs": [
        {
          "name": "stdout",
          "output_type": "stream",
          "text": [
            "Additional tools created!\n"
          ]
        }
      ],
      "source": [
        "def add(a: int, b: int) -> int:\n",
        "    \"\"\"Add two numbers together.\n",
        "    \n",
        "    Args:\n",
        "        a: first number\n",
        "        b: second number\n",
        "    \"\"\"\n",
        "    return a + b\n",
        "\n",
        "def get_weather(city: str) -> str:\n",
        "    \"\"\"Get the current weather for a city.\n",
        "    \n",
        "    Args:\n",
        "        city: name of the city\n",
        "    \"\"\"\n",
        "    # This is a mock function - in reality, you'd call a weather API\n",
        "    return f\"The weather in {city} is sunny and 72°F\"\n",
        "\n",
        "# TODO: Create your own tool function here!\n",
        "# Try creating a simple calculator function like subtract, divide, or power\n",
        "def subtract(a:int, b:int) -> int:\n",
        "    ''' \n",
        "    Subtract b from a\n",
        "    '''\n",
        "    return a-b\n",
        "\n",
        "print(\"Additional tools created!\")"
      ]
    },
    {
      "cell_type": "markdown",
      "metadata": {},
      "source": [
        "### Exercise 2a: Complete the Tool\n",
        "\n",
        "Replace the `your_tool_here` function with your own tool. Some ideas:\n",
        "- `subtract(a, b)` - subtract two numbers\n",
        "- `power(base, exponent)` - raise a number to a power\n",
        "- `word_count(text)` - count words in a text\n",
        "- `reverse_string(text)` - reverse a string\n",
        "\n",
        "Make sure to include proper docstrings!"
      ]
    },
    {
      "cell_type": "markdown",
      "metadata": {},
      "source": [
        "## Step 3: Building the Router Graph\n",
        "\n",
        "### Concept: Graph Components\n",
        "\n",
        "A LangGraph router consists of:\n",
        "\n",
        "1. **Nodes**: Functions that process the state\n",
        "   - `tool_calling_llm`: Node that runs the LLM and decides whether to call tools\n",
        "   - `ToolNode`: Node that executes tools when called\n",
        "\n",
        "2. **Edges**: Connections between nodes\n",
        "   - Regular edges: Always go to the next node\n",
        "   - Conditional edges: Route based on conditions (like tool calls)\n",
        "\n",
        "3. **State**: The data that flows through the graph (messages in our case)\n",
        "\n",
        "Let's build our router step by step:"
      ]
    },
    {
      "cell_type": "code",
      "execution_count": 8,
      "metadata": {},
      "outputs": [
        {
          "name": "stdout",
          "output_type": "stream",
          "text": [
            "LLM configured with 4 tools\n"
          ]
        }
      ],
      "source": [
        "from IPython.display import Image, display\n",
        "from langgraph.graph import StateGraph, START, END\n",
        "from langgraph.graph import MessagesState\n",
        "from langgraph.prebuilt import ToolNode\n",
        "from langgraph.prebuilt import tools_condition\n",
        "\n",
        "# Step 1: Create the LLM with tools\n",
        "tools = [multiply, add, get_weather, subtract]  # Add your tool to this list!\n",
        "llm_with_tools = llm.bind_tools(tools)\n",
        "\n",
        "print(f\"LLM configured with {len(tools)} tools\")"
      ]
    },
    {
      "cell_type": "code",
      "execution_count": 9,
      "metadata": {},
      "outputs": [
        {
          "name": "stdout",
          "output_type": "stream",
          "text": [
            "LLM node defined\n"
          ]
        }
      ],
      "source": [
        "# Step 2: Define the LLM node\n",
        "def tool_calling_llm(state: MessagesState):\n",
        "    \"\"\"Node that processes messages and potentially calls tools.\"\"\"\n",
        "    response = llm_with_tools.invoke(state[\"messages\"])\n",
        "    return {\"messages\": [response]}\n",
        "\n",
        "print(\"LLM node defined\")"
      ]
    },
    {
      "cell_type": "code",
      "execution_count": null,
      "metadata": {},
      "outputs": [
        {
          "name": "stdout",
          "output_type": "stream",
          "text": [
            "Graph built successfully!\n"
          ]
        }
      ],
      "source": [
        "# Step 3: Build the complete graph\n",
        "builder = StateGraph(MessagesState)\n",
        "\n",
        "# Add nodes\n",
        "builder.add_node(\"tool_calling_llm\", tool_calling_llm)\n",
        "builder.add_node(\"tools\", ToolNode(tools))\n",
        "\n",
        "# Add edges\n",
        "builder.add_edge(START, \"tool_calling_llm\")\n",
        "builder.add_conditional_edges(\n",
        "    \"tool_calling_llm\",\n",
        "    tools_condition,  # This decides: tools if tool_calls exist, END if not\n",
        ")\n",
        "builder.add_edge(\"tools\", END)\n",
        "\n",
        "# Compile the graph\n",
        "graph = builder.compile()\n",
        "\n",
        "print(\"Graph built successfully!\")"
      ]
    },
    {
      "cell_type": "markdown",
      "metadata": {},
      "source": [
        "### Exercise 3: Visualize the Graph\n",
        "\n",
        "Let's see what our graph looks like:"
      ]
    },
    {
      "cell_type": "code",
      "execution_count": 14,
      "metadata": {},
      "outputs": [
        {
          "data": {
            "image/png": "[encoded data removed]",
            "text/plain": [
              "<IPython.core.display.Image object>"
            ]
          },
          "metadata": {},
          "output_type": "display_data"
        }
      ],
      "source": [
        "# Visualize the graph\n",
        "try:\n",
        "    display(Image(graph.get_graph().draw_mermaid_png()))\n",
        "except Exception as e:\n",
        "    print(f\"Could not display graph image: {e}\")\n",
        "    print(\"Graph structure:\")\n",
        "    print(\"START -> tool_calling_llm -> [conditional] -> tools OR END\")\n",
        "    print(\"tools -> END\")"
      ]
    },
    {
      "cell_type": "markdown",
      "metadata": {},
      "source": [
        "### Understanding the Graph Flow\n",
        "\n",
        "1. **START** → **tool_calling_llm**: Every request begins with the LLM node\n",
        "2. **tool_calling_llm** → **Conditional Edge**: \n",
        "   - If LLM output contains tool calls → go to **tools** node\n",
        "   - If LLM output has no tool calls → go to **END**\n",
        "3. **tools** → **END**: After executing tools, we're done\n",
        "\n",
        "The `tools_condition` function automatically handles this routing logic!"
      ]
    },
    {
      "cell_type": "markdown",
      "metadata": {},
      "source": [
        "## Step 4: Testing the Router\n",
        "\n",
        "Now comes the fun part - let's test our router with different types of inputs!\n",
        "\n",
        "### Exercise 4a: Test Tool-Requiring Questions"
      ]
    },
    {
      "cell_type": "code",
      "execution_count": 12,
      "metadata": {},
      "outputs": [
        {
          "name": "stdout",
          "output_type": "stream",
          "text": [
            "\n",
            "==================================================\n",
            "QUESTION: What is 15 multiplied by 8?\n",
            "==================================================\n",
            "\n",
            "CONVERSATION FLOW:\n",
            "\n",
            "1. HumanMessage:\n",
            "   Content: What is 15 multiplied by 8?\n",
            "\n",
            "2. AIMessage:\n",
            "   Tool Calls: [{'name': 'multiply', 'args': {'a': 15, 'b': 8}, 'id': 'call_GPRhtb4tXV71uha0mUWlq9B7', 'type': 'tool_call'}]\n",
            "\n",
            "3. ToolMessage:\n",
            "   Content: 120\n"
          ]
        },
        {
          "data": {
            "text/plain": [
              "{'messages': [HumanMessage(content='What is 15 multiplied by 8?', additional_kwargs={}, response_metadata={}, id='15723a47-ea80-45c5-a801-e1dfe993c988'),\n",
              "  AIMessage(content='', additional_kwargs={'tool_calls': [{'id': 'call_GPRhtb4tXV71uha0mUWlq9B7', 'function': {'arguments': '{\"a\":15,\"b\":8}', 'name': 'multiply'}, 'type': 'function'}], 'refusal': None}, response_metadata={'token_usage': {'completion_tokens': 17, 'prompt_tokens': 141, 'total_tokens': 158, 'completion_tokens_details': {'accepted_prediction_tokens': 0, 'audio_tokens': 0, 'reasoning_tokens': 0, 'rejected_prediction_tokens': 0}, 'prompt_tokens_details': {'audio_tokens': 0, 'cached_tokens': 0}}, 'model_name': 'gpt-4o-2024-08-06', 'system_fingerprint': 'fp_07871e2ad8', 'id': 'chatcmpl-CAeMVwAPkXslquehUsqT6LbOu29M2', 'service_tier': 'default', 'finish_reason': 'tool_calls', 'logprobs': None}, id='run--335f5361-6f85-44d4-abff-12590247f00b-0', tool_calls=[{'name': 'multiply', 'args': {'a': 15, 'b': 8}, 'id': 'call_GPRhtb4tXV71uha0mUWlq9B7', 'type': 'tool_call'}], usage_metadata={'input_tokens': 141, 'output_tokens': 17, 'total_tokens': 158, 'input_token_details': {'audio': 0, 'cache_read': 0}, 'output_token_details': {'audio': 0, 'reasoning': 0}}),\n",
              "  ToolMessage(content='120', name='multiply', id='5952df66-0c41-4d22-8e03-90b0a949873f', tool_call_id='call_GPRhtb4tXV71uha0mUWlq9B7')]}"
            ]
          },
          "execution_count": 12,
          "metadata": {},
          "output_type": "execute_result"
        }
      ],
      "source": [
        "def test_router(question: str):\n",
        "    \"\"\"Helper function to test the router and display results clearly.\"\"\"\n",
        "    print(f\"\\n{'='*50}\")\n",
        "    print(f\"QUESTION: {question}\")\n",
        "    print(f\"{'='*50}\")\n",
        "    \n",
        "    messages = [HumanMessage(content=question)]\n",
        "    result = graph.invoke({\"messages\": messages})\n",
        "    \n",
        "    print(\"\\nCONVERSATION FLOW:\")\n",
        "    for i, message in enumerate(result['messages']):\n",
        "        print(f\"\\n{i+1}. {message.__class__.__name__}:\")\n",
        "        if hasattr(message, 'content') and message.content:\n",
        "            print(f\"   Content: {message.content}\")\n",
        "        if hasattr(message, 'tool_calls') and message.tool_calls:\n",
        "            print(f\"   Tool Calls: {message.tool_calls}\")\n",
        "    \n",
        "    return result\n",
        "\n",
        "# Test 1: Mathematical calculation\n",
        "test_router(\"What is 15 multiplied by 8?\")"
      ]
    },
    {
      "cell_type": "code",
      "execution_count": null,
      "metadata": {},
      "outputs": [],
      "source": [
        "# Test 2: Addition\n",
        "test_router(\"Please add 25 and 37\")"
      ]
    },
    {
      "cell_type": "code",
      "execution_count": null,
      "metadata": {},
      "outputs": [],
      "source": [
        "# Test 3: Weather query\n",
        "test_router(\"What's the weather like in San Francisco?\")"
      ]
    },
    {
      "cell_type": "markdown",
      "metadata": {},
      "source": [
        "### Exercise 4b: Test Direct Response Questions"
      ]
    },
    {
      "cell_type": "code",
      "execution_count": null,
      "metadata": {},
      "outputs": [],
      "source": [
        "# Test 4: General greeting\n",
        "test_router(\"Hello! How are you doing today?\")"
      ]
    },
    {
      "cell_type": "code",
      "execution_count": null,
      "metadata": {},
      "outputs": [],
      "source": [
        "# Test 5: General knowledge question\n",
        "test_router(\"What is the capital of France?\")"
      ]
    },
    {
      "cell_type": "code",
      "execution_count": null,
      "metadata": {},
      "outputs": [],
      "source": [
        "# Test 6: Explanation request\n",
        "test_router(\"Can you explain what machine learning is?\")"
      ]
    },
    {
      "cell_type": "markdown",
      "metadata": {},
      "source": [
        "### Exercise 4c: Interactive Testing\n",
        "\n",
        "Now it's your turn! Try your own questions:"
      ]
    },
    {
      "cell_type": "code",
      "execution_count": null,
      "metadata": {},
      "outputs": [],
      "source": [
        "# Try your own questions here!\n",
        "# Some ideas:\n",
        "# - \"What is 12 + 88?\" (should use add tool)\n",
        "# - \"Tell me a joke\" (should respond directly)\n",
        "# - \"What's the weather in Tokyo?\" (should use weather tool)\n",
        "# - \"What is your favorite color?\" (should respond directly)\n",
        "\n",
        "your_question = \"What is 12 + 88?\"  # Replace with your own question\n",
        "test_router(your_question)"
      ]
    },
    {
      "cell_type": "markdown",
      "metadata": {},
      "source": [
        "## Step 5: Understanding Router Behavior\n",
        "\n",
        "### Analysis Questions\n",
        "\n",
        "Based on your tests, answer these questions:\n",
        "\n",
        "1. **Pattern Recognition**: What patterns do you notice in when the router chooses tools vs. direct responses?\n",
        "\n",
        "2. **Tool Selection**: How does the LLM decide which specific tool to use when multiple tools are available?\n",
        "\n",
        "3. **Message Flow**: What types of messages do you see in the conversation when tools are called?\n",
        "\n",
        "### Expected Behavior\n",
        "\n",
        "The router should:\n",
        "- **Use tools** for specific computational tasks (math, weather lookup)\n",
        "- **Respond directly** for general conversation, knowledge questions, and explanations\n",
        "- **Choose the right tool** based on the task type\n",
        "- **Show the complete flow** including tool calls and their results"
      ]
    },
    {
      "cell_type": "markdown",
      "metadata": {},
      "source": [
        "## Step 6: Advanced Exercises\n",
        "\n",
        "### Exercise 6a: Error Handling\n",
        "\n",
        "What happens if we ask for something our tools can't handle?"
      ]
    },
    {
      "cell_type": "code",
      "execution_count": null,
      "metadata": {},
      "outputs": [],
      "source": [
        "# Test error handling\n",
        "test_router(\"Can you divide 10 by 2?\")"
      ]
    },
    {
      "cell_type": "markdown",
      "metadata": {},
      "source": [
        "### Exercise 6b: Multiple Operations\n",
        "\n",
        "Can our router handle requests that might need multiple tools?"
      ]
    },
    {
      "cell_type": "code",
      "execution_count": null,
      "metadata": {},
      "outputs": [],
      "source": [
        "# Test complex requests\n",
        "test_router(\"What is 5 times 7, and also what's the weather in New York?\")"
      ]
    },
    {
      "cell_type": "markdown",
      "metadata": {},
      "source": [
        "### Exercise 6c: Edge Cases\n",
        "\n",
        "Let's test some edge cases:"
      ]
    },
    {
      "cell_type": "code",
      "execution_count": null,
      "metadata": {},
      "outputs": [],
      "source": [
        "# Test with numbers in text that don't need calculation\n",
        "test_router(\"I have 5 cats and 3 dogs. Tell me about pet care.\")"
      ]
    },
    {
      "cell_type": "code",
      "execution_count": null,
      "metadata": {},
      "outputs": [],
      "source": [
        "# Test with ambiguous mathematical language\n",
        "test_router(\"What do you think about the product of innovation and creativity?\")"
      ]
    },
    {
      "cell_type": "markdown",
      "metadata": {},
      "source": [
        "## Step 7: Building Your Own Enhanced Router\n",
        "\n",
        "### Challenge Exercise: Create an Enhanced Router\n",
        "\n",
        "Now it's time to build your own enhanced version! Create a router with at least 5 different tools.\n",
        "\n",
        "#### Requirements:\n",
        "1. Include at least 5 tools of different types\n",
        "2. Test with various inputs\n",
        "3. Document what each tool does\n",
        "4. Show examples of both tool calls and direct responses\n",
        "\n",
        "#### Suggested Tools:\n",
        "- Mathematical operations (subtract, divide, power, etc.)\n",
        "- String operations (reverse, uppercase, word_count)\n",
        "- Data operations (average, max, min from a list)\n",
        "- Date/time operations (current_date, days_between)\n",
        "- Mock API calls (weather, stock prices, currency conversion)\n"
      ]
    },
    {
      "cell_type": "code",
      "execution_count": null,
      "metadata": {},
      "outputs": [],
      "source": [
        "# Your enhanced router here!\n",
        "\n",
        "def subtract(a: int, b: int) -> int:\n",
        "    \"\"\"Subtract b from a.\"\"\"\n",
        "    return a - b\n",
        "\n",
        "def word_count(text: str) -> int:\n",
        "    \"\"\"Count the number of words in the text.\"\"\"\n",
        "    return len(text.split())\n",
        "\n",
        "def reverse_string(text: str) -> str:\n",
        "    \"\"\"Reverse the given string.\"\"\"\n",
        "    return text[::-1]\n",
        "\n",
        "# TODO: Add 2 more tools of your choice!\n",
        "\n",
        "# Create your enhanced router\n",
        "enhanced_tools = [multiply, add, subtract, word_count, reverse_string]  # Add your tools here\n",
        "enhanced_llm = llm.bind_tools(enhanced_tools)\n",
        "\n",
        "def enhanced_tool_calling_llm(state: MessagesState):\n",
        "    \"\"\"Enhanced LLM node with more tools.\"\"\"\n",
        "    response = enhanced_llm.invoke(state[\"messages\"])\n",
        "    return {\"messages\": [response]}\n",
        "\n",
        "# Build enhanced graph\n",
        "enhanced_builder = StateGraph(MessagesState)\n",
        "enhanced_builder.add_node(\"tool_calling_llm\", enhanced_tool_calling_llm)\n",
        "enhanced_builder.add_node(\"tools\", ToolNode(enhanced_tools))\n",
        "enhanced_builder.add_edge(START, \"tool_calling_llm\")\n",
        "enhanced_builder.add_conditional_edges(\"tool_calling_llm\", tools_condition)\n",
        "enhanced_builder.add_edge(\"tools\", END)\n",
        "\n",
        "enhanced_graph = enhanced_builder.compile()\n",
        "\n",
        "print(f\"Enhanced router created with {len(enhanced_tools)} tools!\")"
      ]
    },
    {
      "cell_type": "code",
      "execution_count": null,
      "metadata": {},
      "outputs": [],
      "source": [
        "# Test your enhanced router\n",
        "def test_enhanced_router(question: str):\n",
        "    \"\"\"Test the enhanced router.\"\"\"\n",
        "    messages = [HumanMessage(content=question)]\n",
        "    result = enhanced_graph.invoke({\"messages\": messages})\n",
        "    \n",
        "    print(f\"\\nQ: {question}\")\n",
        "    print(f\"A: {result['messages'][-1].content}\")\n",
        "    return result\n",
        "\n",
        "# Test cases for your enhanced router\n",
        "test_enhanced_router(\"What is 100 minus 37?\")\n",
        "test_enhanced_router(\"How many words are in 'The quick brown fox jumps over the lazy dog'?\")\n",
        "test_enhanced_router(\"Can you reverse the word 'hello'?\")\n",
        "test_enhanced_router(\"What is artificial intelligence?\")  # Should respond directly"
      ]
    },
    {
      "cell_type": "markdown",
      "metadata": {},
      "source": [
        "## Step 8: Key Takeaways and Next Steps\n",
        "\n",
        "### Summary\n",
        "\n",
        "Congratulations! You've successfully built and tested LangGraph routers. Here's what you've learned:\n",
        "\n",
        "#### Core Concepts Mastered:\n",
        "1. **Router Pattern**: LLMs can intelligently route between direct responses and tool calls\n",
        "2. **Tool Integration**: Functions can be bound to LLMs for dynamic execution\n",
        "3. **Graph Architecture**: Nodes, edges, and conditional logic work together\n",
        "4. **State Management**: Messages flow through the graph maintaining conversation context\n",
        "5. **Conditional Edges**: `tools_condition` automatically routes based on LLM output\n",
        "\n",
        "#### Key Components:\n",
        "- **MessagesState**: Maintains conversation history\n",
        "- **ToolNode**: Executes tool calls automatically\n",
        "- **tools_condition**: Built-in routing logic\n",
        "- **Conditional edges**: Enable dynamic flow control\n",
        "\n",
        "### Real-World Applications\n",
        "\n",
        "Routers are fundamental to building:\n",
        "- **AI Assistants**: Route between knowledge and tools\n",
        "- **Chatbots**: Handle both conversation and actions\n",
        "- **Agent Systems**: Enable complex multi-step workflows\n",
        "- **API Orchestrators**: Route requests to appropriate services\n",
        "\n",
        "### Next Steps\n",
        "\n",
        "Ready to go further? Try these advanced topics:\n",
        "\n",
        "1. **Multiple Router Chains**: Create routers that call other routers\n",
        "2. **Memory Integration**: Add persistent memory to your routers\n",
        "3. **Custom Conditional Logic**: Write your own routing conditions\n",
        "4. **Error Handling**: Add robust error handling and recovery\n",
        "5. **Streaming Responses**: Implement real-time response streaming\n",
        "6. **Multi-Agent Systems**: Coordinate multiple AI agents\n",
        "\n",
        "### Final Challenge\n",
        "\n",
        "Build a \"Smart Assistant\" router that can:\n",
        "- Handle calculations (multiple math operations)\n",
        "- Answer general questions directly\n",
        "- Look up information (weather, definitions, etc.)\n",
        "- Process text (analyze, transform, summarize)\n",
        "- Remember conversation context\n",
        "\n",
        "**Good luck with your LangGraph journey!**"
      ]
    },
    {
      "cell_type": "markdown",
      "metadata": {},
      "source": [
        "### Reflection Exercise\n",
        "\n",
        "Before finishing, take a moment to reflect on your learning:\n",
        "\n",
        "1. **What was the most surprising thing you learned about routers?**\n",
        "\n",
        "2. **Which part was most challenging to understand?**\n",
        "\n",
        "3. **What real-world application would you like to build with routers?**\n",
        "\n",
        "4. **What questions do you still have about LangGraph routers?**\n",
        "\n",
        "_Write your thoughts in the cell below:_"
      ]
    },
    {
      "cell_type": "markdown",
      "metadata": {},
      "source": [
        "### Your Reflections:\n",
        "\n",
        "_Replace this text with your thoughts about the tutorial..._\n",
        "\n",
        "1. Most surprising: \n",
        "2. Most challenging: \n",
        "3. Real-world application idea: \n",
        "4. Questions remaining: \n"
      ]
    }
  ],
  "metadata": {
    "kernelspec": {
      "display_name": "langchain-academy (3.13.2)",
      "language": "python",
      "name": "python3"
    },
    "language_info": {
      "codemirror_mode": {
        "name": "ipython",
        "version": 3
      },
      "file_extension": ".py",
      "mimetype": "text/x-python",
      "name": "python",
      "nbconvert_exporter": "python",
      "pygments_lexer": "ipython3",
      "version": "3.13.2"
    }
  },
  "nbformat": 4,
  "nbformat_minor": 4
}
